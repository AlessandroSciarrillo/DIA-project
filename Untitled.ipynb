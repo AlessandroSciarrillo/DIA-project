{
 "cells": [
  {
   "cell_type": "code",
   "execution_count": 2,
   "id": "f1608587",
   "metadata": {
    "id": "f1608587"
   },
   "outputs": [],
   "source": [
    "import datetime\n",
    "import numpy as np\n",
    "import pandas as pd\n",
    "import matplotlib.pyplot as plt\n",
    "import sklearn\n",
    "\n",
    "# import necessari\n",
    "from sklearn.linear_model import LinearRegression, Ridge\n",
    "from sklearn.preprocessing import PolynomialFeatures, StandardScaler\n",
    "from sklearn.pipeline import Pipeline"
   ]
  },
  {
   "cell_type": "code",
   "execution_count": 3,
   "id": "6b294910",
   "metadata": {
    "colab": {
     "base_uri": "https://localhost:8080/",
     "height": 487
    },
    "id": "6b294910",
    "outputId": "5623519f-b224-4337-8d6e-58d4cbf7201a"
   },
   "outputs": [
    {
     "data": {
      "text/html": [
       "<div>\n",
       "<style scoped>\n",
       "    .dataframe tbody tr th:only-of-type {\n",
       "        vertical-align: middle;\n",
       "    }\n",
       "\n",
       "    .dataframe tbody tr th {\n",
       "        vertical-align: top;\n",
       "    }\n",
       "\n",
       "    .dataframe thead th {\n",
       "        text-align: right;\n",
       "    }\n",
       "</style>\n",
       "<table border=\"1\" class=\"dataframe\">\n",
       "  <thead>\n",
       "    <tr style=\"text-align: right;\">\n",
       "      <th></th>\n",
       "      <th>Data_ora_solare</th>\n",
       "      <th>Pressione_atmosferica</th>\n",
       "      <th>Temperatura_aria</th>\n",
       "      <th>Temperatura_acqua</th>\n",
       "      <th>Pioggia_accumulata_mm</th>\n",
       "      <th>Radiazione_solare</th>\n",
       "      <th>Umidita_perc</th>\n",
       "    </tr>\n",
       "  </thead>\n",
       "  <tbody>\n",
       "    <tr>\n",
       "      <th>0</th>\n",
       "      <td>01/01/2021 01:00</td>\n",
       "      <td>1009.2</td>\n",
       "      <td>7.5</td>\n",
       "      <td>10.7</td>\n",
       "      <td>0.0</td>\n",
       "      <td>0.0</td>\n",
       "      <td>84.0</td>\n",
       "    </tr>\n",
       "    <tr>\n",
       "      <th>1</th>\n",
       "      <td>01/01/2021 02:00</td>\n",
       "      <td>1009.5</td>\n",
       "      <td>7.7</td>\n",
       "      <td>9.7</td>\n",
       "      <td>0.0</td>\n",
       "      <td>0.0</td>\n",
       "      <td>85.0</td>\n",
       "    </tr>\n",
       "    <tr>\n",
       "      <th>2</th>\n",
       "      <td>01/01/2021 03:00</td>\n",
       "      <td>1009.6</td>\n",
       "      <td>7.7</td>\n",
       "      <td>9.5</td>\n",
       "      <td>0.0</td>\n",
       "      <td>0.0</td>\n",
       "      <td>86.0</td>\n",
       "    </tr>\n",
       "    <tr>\n",
       "      <th>3</th>\n",
       "      <td>01/01/2021 04:00</td>\n",
       "      <td>1009.3</td>\n",
       "      <td>7.9</td>\n",
       "      <td>9.8</td>\n",
       "      <td>0.0</td>\n",
       "      <td>0.0</td>\n",
       "      <td>86.0</td>\n",
       "    </tr>\n",
       "    <tr>\n",
       "      <th>4</th>\n",
       "      <td>01/01/2021 05:00</td>\n",
       "      <td>1009.2</td>\n",
       "      <td>7.9</td>\n",
       "      <td>10.6</td>\n",
       "      <td>0.0</td>\n",
       "      <td>0.0</td>\n",
       "      <td>88.0</td>\n",
       "    </tr>\n",
       "    <tr>\n",
       "      <th>...</th>\n",
       "      <td>...</td>\n",
       "      <td>...</td>\n",
       "      <td>...</td>\n",
       "      <td>...</td>\n",
       "      <td>...</td>\n",
       "      <td>...</td>\n",
       "      <td>...</td>\n",
       "    </tr>\n",
       "    <tr>\n",
       "      <th>8755</th>\n",
       "      <td>31/12/2021 20:00</td>\n",
       "      <td>1023.4</td>\n",
       "      <td>4.2</td>\n",
       "      <td>8.6</td>\n",
       "      <td>0.0</td>\n",
       "      <td>0.0</td>\n",
       "      <td>100.0</td>\n",
       "    </tr>\n",
       "    <tr>\n",
       "      <th>8756</th>\n",
       "      <td>31/12/2021 21:00</td>\n",
       "      <td>1023.7</td>\n",
       "      <td>3.8</td>\n",
       "      <td>8.6</td>\n",
       "      <td>0.0</td>\n",
       "      <td>0.0</td>\n",
       "      <td>100.0</td>\n",
       "    </tr>\n",
       "    <tr>\n",
       "      <th>8757</th>\n",
       "      <td>31/12/2021 22:00</td>\n",
       "      <td>1023.6</td>\n",
       "      <td>3.8</td>\n",
       "      <td>8.7</td>\n",
       "      <td>0.2</td>\n",
       "      <td>0.0</td>\n",
       "      <td>100.0</td>\n",
       "    </tr>\n",
       "    <tr>\n",
       "      <th>8758</th>\n",
       "      <td>31/12/2021 23:00</td>\n",
       "      <td>1023.6</td>\n",
       "      <td>3.6</td>\n",
       "      <td>8.6</td>\n",
       "      <td>0.0</td>\n",
       "      <td>0.0</td>\n",
       "      <td>100.0</td>\n",
       "    </tr>\n",
       "    <tr>\n",
       "      <th>8759</th>\n",
       "      <td>01/01/2022 00:00</td>\n",
       "      <td>1023.4</td>\n",
       "      <td>3.6</td>\n",
       "      <td>8.8</td>\n",
       "      <td>0.0</td>\n",
       "      <td>0.0</td>\n",
       "      <td>100.0</td>\n",
       "    </tr>\n",
       "  </tbody>\n",
       "</table>\n",
       "<p>8760 rows × 7 columns</p>\n",
       "</div>"
      ],
      "text/plain": [
       "       Data_ora_solare  Pressione_atmosferica  Temperatura_aria  \\\n",
       "0     01/01/2021 01:00                 1009.2               7.5   \n",
       "1     01/01/2021 02:00                 1009.5               7.7   \n",
       "2     01/01/2021 03:00                 1009.6               7.7   \n",
       "3     01/01/2021 04:00                 1009.3               7.9   \n",
       "4     01/01/2021 05:00                 1009.2               7.9   \n",
       "...                ...                    ...               ...   \n",
       "8755  31/12/2021 20:00                 1023.4               4.2   \n",
       "8756  31/12/2021 21:00                 1023.7               3.8   \n",
       "8757  31/12/2021 22:00                 1023.6               3.8   \n",
       "8758  31/12/2021 23:00                 1023.6               3.6   \n",
       "8759  01/01/2022 00:00                 1023.4               3.6   \n",
       "\n",
       "      Temperatura_acqua  Pioggia_accumulata_mm  Radiazione_solare  \\\n",
       "0                  10.7                    0.0                0.0   \n",
       "1                   9.7                    0.0                0.0   \n",
       "2                   9.5                    0.0                0.0   \n",
       "3                   9.8                    0.0                0.0   \n",
       "4                  10.6                    0.0                0.0   \n",
       "...                 ...                    ...                ...   \n",
       "8755                8.6                    0.0                0.0   \n",
       "8756                8.6                    0.0                0.0   \n",
       "8757                8.7                    0.2                0.0   \n",
       "8758                8.6                    0.0                0.0   \n",
       "8759                8.8                    0.0                0.0   \n",
       "\n",
       "      Umidita_perc  \n",
       "0             84.0  \n",
       "1             85.0  \n",
       "2             86.0  \n",
       "3             86.0  \n",
       "4             88.0  \n",
       "...            ...  \n",
       "8755         100.0  \n",
       "8756         100.0  \n",
       "8757         100.0  \n",
       "8758         100.0  \n",
       "8759         100.0  \n",
       "\n",
       "[8760 rows x 7 columns]"
      ]
     },
     "execution_count": 3,
     "metadata": {},
     "output_type": "execute_result"
    }
   ],
   "source": [
    "dataset_1 = pd.read_csv(\"Dati_meteo_Piattaforma_2021.csv\", sep=\";\")\n",
    "dataset_1.bfill(inplace=True)\n",
    "dataset_1.dropna(inplace=True)\n",
    "dataset_1"
   ]
  },
  {
   "cell_type": "code",
   "execution_count": 4,
   "id": "d41edad4",
   "metadata": {
    "colab": {
     "base_uri": "https://localhost:8080/",
     "height": 423
    },
    "id": "d41edad4",
    "outputId": "0812ee54-73b9-4b84-c19b-99d83cf154ff"
   },
   "outputs": [
    {
     "data": {
      "text/html": [
       "<div>\n",
       "<style scoped>\n",
       "    .dataframe tbody tr th:only-of-type {\n",
       "        vertical-align: middle;\n",
       "    }\n",
       "\n",
       "    .dataframe tbody tr th {\n",
       "        vertical-align: top;\n",
       "    }\n",
       "\n",
       "    .dataframe thead th {\n",
       "        text-align: right;\n",
       "    }\n",
       "</style>\n",
       "<table border=\"1\" class=\"dataframe\">\n",
       "  <thead>\n",
       "    <tr style=\"text-align: right;\">\n",
       "      <th></th>\n",
       "      <th>Data_ora_solare</th>\n",
       "      <th>Livello_(m)</th>\n",
       "      <th>Direzione_vento_(GN)</th>\n",
       "      <th>Velocita_vento_(m/s)</th>\n",
       "      <th>Velocita_raffica_(m/s)</th>\n",
       "    </tr>\n",
       "  </thead>\n",
       "  <tbody>\n",
       "    <tr>\n",
       "      <th>0</th>\n",
       "      <td>01/01/2021 01:00</td>\n",
       "      <td>0.67</td>\n",
       "      <td>6.0</td>\n",
       "      <td>3.3</td>\n",
       "      <td>3.7</td>\n",
       "    </tr>\n",
       "    <tr>\n",
       "      <th>1</th>\n",
       "      <td>01/01/2021 02:00</td>\n",
       "      <td>0.60</td>\n",
       "      <td>21.0</td>\n",
       "      <td>3.0</td>\n",
       "      <td>3.2</td>\n",
       "    </tr>\n",
       "    <tr>\n",
       "      <th>2</th>\n",
       "      <td>01/01/2021 03:00</td>\n",
       "      <td>0.52</td>\n",
       "      <td>31.0</td>\n",
       "      <td>2.8</td>\n",
       "      <td>3.2</td>\n",
       "    </tr>\n",
       "    <tr>\n",
       "      <th>3</th>\n",
       "      <td>01/01/2021 04:00</td>\n",
       "      <td>0.48</td>\n",
       "      <td>61.0</td>\n",
       "      <td>3.4</td>\n",
       "      <td>3.7</td>\n",
       "    </tr>\n",
       "    <tr>\n",
       "      <th>4</th>\n",
       "      <td>01/01/2021 05:00</td>\n",
       "      <td>0.53</td>\n",
       "      <td>64.0</td>\n",
       "      <td>4.0</td>\n",
       "      <td>5.1</td>\n",
       "    </tr>\n",
       "    <tr>\n",
       "      <th>...</th>\n",
       "      <td>...</td>\n",
       "      <td>...</td>\n",
       "      <td>...</td>\n",
       "      <td>...</td>\n",
       "      <td>...</td>\n",
       "    </tr>\n",
       "    <tr>\n",
       "      <th>8755</th>\n",
       "      <td>31/12/2021 20:00</td>\n",
       "      <td>0.55</td>\n",
       "      <td>252.0</td>\n",
       "      <td>2.5</td>\n",
       "      <td>3.6</td>\n",
       "    </tr>\n",
       "    <tr>\n",
       "      <th>8756</th>\n",
       "      <td>31/12/2021 21:00</td>\n",
       "      <td>0.62</td>\n",
       "      <td>245.0</td>\n",
       "      <td>2.3</td>\n",
       "      <td>2.5</td>\n",
       "    </tr>\n",
       "    <tr>\n",
       "      <th>8757</th>\n",
       "      <td>31/12/2021 22:00</td>\n",
       "      <td>0.62</td>\n",
       "      <td>240.0</td>\n",
       "      <td>2.3</td>\n",
       "      <td>3.6</td>\n",
       "    </tr>\n",
       "    <tr>\n",
       "      <th>8758</th>\n",
       "      <td>31/12/2021 23:00</td>\n",
       "      <td>0.56</td>\n",
       "      <td>273.0</td>\n",
       "      <td>1.8</td>\n",
       "      <td>2.4</td>\n",
       "    </tr>\n",
       "    <tr>\n",
       "      <th>8759</th>\n",
       "      <td>01/01/2022 00:00</td>\n",
       "      <td>0.47</td>\n",
       "      <td>322.0</td>\n",
       "      <td>0.8</td>\n",
       "      <td>0.9</td>\n",
       "    </tr>\n",
       "  </tbody>\n",
       "</table>\n",
       "<p>8760 rows × 5 columns</p>\n",
       "</div>"
      ],
      "text/plain": [
       "       Data_ora_solare  Livello_(m)  Direzione_vento_(GN)  \\\n",
       "0     01/01/2021 01:00         0.67                   6.0   \n",
       "1     01/01/2021 02:00         0.60                  21.0   \n",
       "2     01/01/2021 03:00         0.52                  31.0   \n",
       "3     01/01/2021 04:00         0.48                  61.0   \n",
       "4     01/01/2021 05:00         0.53                  64.0   \n",
       "...                ...          ...                   ...   \n",
       "8755  31/12/2021 20:00         0.55                 252.0   \n",
       "8756  31/12/2021 21:00         0.62                 245.0   \n",
       "8757  31/12/2021 22:00         0.62                 240.0   \n",
       "8758  31/12/2021 23:00         0.56                 273.0   \n",
       "8759  01/01/2022 00:00         0.47                 322.0   \n",
       "\n",
       "      Velocita_vento_(m/s)  Velocita_raffica_(m/s)  \n",
       "0                      3.3                     3.7  \n",
       "1                      3.0                     3.2  \n",
       "2                      2.8                     3.2  \n",
       "3                      3.4                     3.7  \n",
       "4                      4.0                     5.1  \n",
       "...                    ...                     ...  \n",
       "8755                   2.5                     3.6  \n",
       "8756                   2.3                     2.5  \n",
       "8757                   2.3                     3.6  \n",
       "8758                   1.8                     2.4  \n",
       "8759                   0.8                     0.9  \n",
       "\n",
       "[8760 rows x 5 columns]"
      ]
     },
     "execution_count": 4,
     "metadata": {},
     "output_type": "execute_result"
    }
   ],
   "source": [
    "dataset_2 = pd.read_csv(\"piattaforma2021.csv\", sep=\";\", skiprows=1)\n",
    "dataset_2.bfill(inplace=True)\n",
    "dataset_2.dropna(inplace=True)\n",
    "dataset_2"
   ]
  },
  {
   "cell_type": "code",
   "execution_count": 5,
   "id": "b3c347a4",
   "metadata": {
    "colab": {
     "base_uri": "https://localhost:8080/",
     "height": 454
    },
    "id": "b3c347a4",
    "outputId": "e741b2ee-3aa4-4c07-b69b-9dfa9f98a751"
   },
   "outputs": [
    {
     "data": {
      "text/html": [
       "<div>\n",
       "<style scoped>\n",
       "    .dataframe tbody tr th:only-of-type {\n",
       "        vertical-align: middle;\n",
       "    }\n",
       "\n",
       "    .dataframe tbody tr th {\n",
       "        vertical-align: top;\n",
       "    }\n",
       "\n",
       "    .dataframe thead th {\n",
       "        text-align: right;\n",
       "    }\n",
       "</style>\n",
       "<table border=\"1\" class=\"dataframe\">\n",
       "  <thead>\n",
       "    <tr style=\"text-align: right;\">\n",
       "      <th></th>\n",
       "      <th>Data_ora_solare</th>\n",
       "      <th>Temperatura_acqua</th>\n",
       "      <th>Pioggia_accumulata_mm</th>\n",
       "      <th>Umidita_perc</th>\n",
       "      <th>Livello_(m)</th>\n",
       "      <th>Velocita_vento_(m/s)</th>\n",
       "    </tr>\n",
       "  </thead>\n",
       "  <tbody>\n",
       "    <tr>\n",
       "      <th>0</th>\n",
       "      <td>01/01/2021 01:00</td>\n",
       "      <td>10.7</td>\n",
       "      <td>0.0</td>\n",
       "      <td>84.0</td>\n",
       "      <td>0.67</td>\n",
       "      <td>3.3</td>\n",
       "    </tr>\n",
       "    <tr>\n",
       "      <th>1</th>\n",
       "      <td>01/01/2021 02:00</td>\n",
       "      <td>9.7</td>\n",
       "      <td>0.0</td>\n",
       "      <td>85.0</td>\n",
       "      <td>0.60</td>\n",
       "      <td>3.0</td>\n",
       "    </tr>\n",
       "    <tr>\n",
       "      <th>2</th>\n",
       "      <td>01/01/2021 03:00</td>\n",
       "      <td>9.5</td>\n",
       "      <td>0.0</td>\n",
       "      <td>86.0</td>\n",
       "      <td>0.52</td>\n",
       "      <td>2.8</td>\n",
       "    </tr>\n",
       "    <tr>\n",
       "      <th>3</th>\n",
       "      <td>01/01/2021 04:00</td>\n",
       "      <td>9.8</td>\n",
       "      <td>0.0</td>\n",
       "      <td>86.0</td>\n",
       "      <td>0.48</td>\n",
       "      <td>3.4</td>\n",
       "    </tr>\n",
       "    <tr>\n",
       "      <th>4</th>\n",
       "      <td>01/01/2021 05:00</td>\n",
       "      <td>10.6</td>\n",
       "      <td>0.0</td>\n",
       "      <td>88.0</td>\n",
       "      <td>0.53</td>\n",
       "      <td>4.0</td>\n",
       "    </tr>\n",
       "    <tr>\n",
       "      <th>...</th>\n",
       "      <td>...</td>\n",
       "      <td>...</td>\n",
       "      <td>...</td>\n",
       "      <td>...</td>\n",
       "      <td>...</td>\n",
       "      <td>...</td>\n",
       "    </tr>\n",
       "    <tr>\n",
       "      <th>8755</th>\n",
       "      <td>31/12/2021 20:00</td>\n",
       "      <td>8.6</td>\n",
       "      <td>0.0</td>\n",
       "      <td>100.0</td>\n",
       "      <td>0.55</td>\n",
       "      <td>2.5</td>\n",
       "    </tr>\n",
       "    <tr>\n",
       "      <th>8756</th>\n",
       "      <td>31/12/2021 21:00</td>\n",
       "      <td>8.6</td>\n",
       "      <td>0.0</td>\n",
       "      <td>100.0</td>\n",
       "      <td>0.62</td>\n",
       "      <td>2.3</td>\n",
       "    </tr>\n",
       "    <tr>\n",
       "      <th>8757</th>\n",
       "      <td>31/12/2021 22:00</td>\n",
       "      <td>8.7</td>\n",
       "      <td>0.2</td>\n",
       "      <td>100.0</td>\n",
       "      <td>0.62</td>\n",
       "      <td>2.3</td>\n",
       "    </tr>\n",
       "    <tr>\n",
       "      <th>8758</th>\n",
       "      <td>31/12/2021 23:00</td>\n",
       "      <td>8.6</td>\n",
       "      <td>0.0</td>\n",
       "      <td>100.0</td>\n",
       "      <td>0.56</td>\n",
       "      <td>1.8</td>\n",
       "    </tr>\n",
       "    <tr>\n",
       "      <th>8759</th>\n",
       "      <td>01/01/2022 00:00</td>\n",
       "      <td>8.8</td>\n",
       "      <td>0.0</td>\n",
       "      <td>100.0</td>\n",
       "      <td>0.47</td>\n",
       "      <td>0.8</td>\n",
       "    </tr>\n",
       "  </tbody>\n",
       "</table>\n",
       "<p>8760 rows × 6 columns</p>\n",
       "</div>"
      ],
      "text/plain": [
       "       Data_ora_solare  Temperatura_acqua  Pioggia_accumulata_mm  \\\n",
       "0     01/01/2021 01:00               10.7                    0.0   \n",
       "1     01/01/2021 02:00                9.7                    0.0   \n",
       "2     01/01/2021 03:00                9.5                    0.0   \n",
       "3     01/01/2021 04:00                9.8                    0.0   \n",
       "4     01/01/2021 05:00               10.6                    0.0   \n",
       "...                ...                ...                    ...   \n",
       "8755  31/12/2021 20:00                8.6                    0.0   \n",
       "8756  31/12/2021 21:00                8.6                    0.0   \n",
       "8757  31/12/2021 22:00                8.7                    0.2   \n",
       "8758  31/12/2021 23:00                8.6                    0.0   \n",
       "8759  01/01/2022 00:00                8.8                    0.0   \n",
       "\n",
       "      Umidita_perc  Livello_(m)  Velocita_vento_(m/s)  \n",
       "0             84.0         0.67                   3.3  \n",
       "1             85.0         0.60                   3.0  \n",
       "2             86.0         0.52                   2.8  \n",
       "3             86.0         0.48                   3.4  \n",
       "4             88.0         0.53                   4.0  \n",
       "...            ...          ...                   ...  \n",
       "8755         100.0         0.55                   2.5  \n",
       "8756         100.0         0.62                   2.3  \n",
       "8757         100.0         0.62                   2.3  \n",
       "8758         100.0         0.56                   1.8  \n",
       "8759         100.0         0.47                   0.8  \n",
       "\n",
       "[8760 rows x 6 columns]"
      ]
     },
     "execution_count": 5,
     "metadata": {},
     "output_type": "execute_result"
    }
   ],
   "source": [
    "df = pd.merge(dataset_1, dataset_2)\n",
    "df\n",
    "\n",
    "del df[\"Pressione_atmosferica\"]\n",
    "del df[\"Radiazione_solare\"]\n",
    "del df[\"Direzione_vento_(GN)\"]\n",
    "del df[\"Temperatura_aria\"]\n",
    "del df[\"Velocita_raffica_(m/s)\"]\n",
    "\n",
    "#df.set_index([\"Data_ora_solare\"], inplace=True)\n",
    "df"
   ]
  },
  {
   "cell_type": "code",
   "execution_count": 6,
   "id": "05725473",
   "metadata": {
    "id": "05725473"
   },
   "outputs": [],
   "source": [
    "features = {\n",
    "    \"lev_lag1\": df[\"Livello_(m)\"].shift(1),\n",
    "    \"lev_lag2\": df[\"Livello_(m)\"].shift(2),\n",
    "    \"acqua\": df[\"Temperatura_acqua\"],\n",
    "    \"pioggia\": df[\"Pioggia_accumulata_mm\"],\n",
    "    \"umidita\": df[\"Umidita_perc\"],\n",
    "    \"vento\": df[\"Velocita_vento_(m/s)\"]\n",
    "}\n",
    "\n",
    "X = pd.DataFrame(features)[2:]\n",
    "y = df[\"Livello_(m)\"][2:]\n",
    "\n",
    "X_train = X.sample(frac=0.8)\n",
    "y_train = y[y.index.isin(X_train.index)]\n",
    "\n",
    "X_val, y_val = X.drop(X_train.index), y.drop(y_train.index)"
   ]
  },
  {
   "cell_type": "code",
   "execution_count": 7,
   "id": "e01e5a4d",
   "metadata": {
    "colab": {
     "base_uri": "https://localhost:8080/"
    },
    "id": "e01e5a4d",
    "outputId": "73b620a9-e5a1-4c96-e691-5a306270b926"
   },
   "outputs": [
    {
     "data": {
      "text/plain": [
       "-0.04993097856306283"
      ]
     },
     "execution_count": 7,
     "metadata": {},
     "output_type": "execute_result"
    }
   ],
   "source": [
    "model_lin = LinearRegression()\n",
    "model_lin.fit(X_train, y_train)\n",
    "model_lin.score(X_val, y_val)\n"
   ]
  },
  {
   "cell_type": "code",
   "execution_count": 8,
   "id": "af051fb9",
   "metadata": {
    "colab": {
     "base_uri": "https://localhost:8080/"
    },
    "id": "af051fb9",
    "outputId": "1db1c6c5-1fab-4931-e147-5d69050f27dd"
   },
   "outputs": [
    {
     "name": "stderr",
     "output_type": "stream",
     "text": [
      "C:\\Users\\nicco\\anaconda3\\lib\\site-packages\\sklearn\\linear_model\\_ridge.py:255: UserWarning: Singular matrix in solving dual problem. Using least-squares solution instead.\n",
      "  warnings.warn(\n"
     ]
    },
    {
     "data": {
      "text/plain": [
       "-0.1830997735165789"
      ]
     },
     "execution_count": 8,
     "metadata": {},
     "output_type": "execute_result"
    }
   ],
   "source": [
    "model_pip = Pipeline([\n",
    "    (\"poly\", PolynomialFeatures(degree=10, include_bias=False)),\n",
    "    (\"regr\", Ridge(alpha=1.0) )\n",
    "])\n",
    "\n",
    "model_pip.fit(X_train, y_train)\n",
    "model_pip.score(X_val, y_val)"
   ]
  },
  {
   "cell_type": "code",
   "execution_count": 10,
   "id": "078ef3c8",
   "metadata": {
    "colab": {
     "base_uri": "https://localhost:8080/"
    },
    "id": "078ef3c8",
    "outputId": "9c007d44-aee5-4d97-9acb-e7de90a718a3",
    "scrolled": true
   },
   "outputs": [
    {
     "data": {
      "text/plain": [
       "-0.10035681379098671"
      ]
     },
     "execution_count": 10,
     "metadata": {},
     "output_type": "execute_result"
    }
   ],
   "source": [
    "import xgboost\n",
    "from xgboost import XGBRegressor\n",
    "model_xgb = XGBRegressor(objective=\"reg:squarederror\", learning_rate=0.0157, reg_lambda= 0.008, reg_alpha=0.0001, n_estimators=625)\n",
    "model_xgb.fit(X_train, y_train)\n",
    "model_xgb.score(X_val, y_val)"
   ]
  },
  {
   "cell_type": "code",
   "execution_count": 19,
   "id": "4af80f17",
   "metadata": {},
   "outputs": [
    {
     "name": "stdout",
     "output_type": "stream",
     "text": [
      "count    1752.000000\n",
      "mean        0.325850\n",
      "std         0.270498\n",
      "min        -0.500000\n",
      "25%         0.140000\n",
      "50%         0.340000\n",
      "75%         0.510000\n",
      "max         1.260000\n",
      "Name: Livello_(m), dtype: float64\n"
     ]
    },
    {
     "ename": "ValueError",
     "evalue": "\nAll the 900 fits failed.\nIt is very likely that your model is misconfigured.\nYou can try to debug the error by setting error_score='raise'.\n\nBelow are more details about the failures:\n--------------------------------------------------------------------------------\n900 fits failed with the following error:\nTraceback (most recent call last):\n  File \"C:\\Users\\nicco\\anaconda3\\lib\\site-packages\\sklearn\\model_selection\\_validation.py\", line 686, in _fit_and_score\n    estimator.fit(X_train, y_train, **fit_params)\n  File \"C:\\Users\\nicco\\anaconda3\\lib\\site-packages\\sklearn\\pipeline.py\", line 405, in fit\n    self._final_estimator.fit(Xt, y, **fit_params_last_step)\n  File \"C:\\Users\\nicco\\anaconda3\\lib\\site-packages\\sklearn\\ensemble\\_forest.py\", line 385, in fit\n    y, expanded_class_weight = self._validate_y_class_weight(y)\n  File \"C:\\Users\\nicco\\anaconda3\\lib\\site-packages\\sklearn\\ensemble\\_forest.py\", line 746, in _validate_y_class_weight\n    check_classification_targets(y)\n  File \"C:\\Users\\nicco\\anaconda3\\lib\\site-packages\\sklearn\\utils\\multiclass.py\", line 207, in check_classification_targets\n    raise ValueError(\"Unknown label type: %r\" % y_type)\nValueError: Unknown label type: 'continuous'\n",
     "output_type": "error",
     "traceback": [
      "\u001b[1;31m---------------------------------------------------------------------------\u001b[0m",
      "\u001b[1;31mValueError\u001b[0m                                Traceback (most recent call last)",
      "Cell \u001b[1;32mIn[19], line 33\u001b[0m\n\u001b[0;32m     25\u001b[0m k_fold \u001b[38;5;241m=\u001b[39m KFold(n_splits\u001b[38;5;241m=\u001b[39m\u001b[38;5;241m5\u001b[39m, shuffle\u001b[38;5;241m=\u001b[39m\u001b[38;5;28;01mTrue\u001b[39;00m, random_state\u001b[38;5;241m=\u001b[39m\u001b[38;5;241m42\u001b[39m)\n\u001b[0;32m     27\u001b[0m forest_grid \u001b[38;5;241m=\u001b[39m {\u001b[38;5;124m\"\u001b[39m\u001b[38;5;124mscaler\u001b[39m\u001b[38;5;124m\"\u001b[39m: [\u001b[38;5;28;01mNone\u001b[39;00m, StandardScaler()],\n\u001b[0;32m     28\u001b[0m              \u001b[38;5;124m'\u001b[39m\u001b[38;5;124mforest__n_estimators\u001b[39m\u001b[38;5;124m'\u001b[39m: \u001b[38;5;28mrange\u001b[39m(\u001b[38;5;241m5\u001b[39m, \u001b[38;5;241m10\u001b[39m),\n\u001b[0;32m     29\u001b[0m              \u001b[38;5;124m'\u001b[39m\u001b[38;5;124mforest__min_samples_split\u001b[39m\u001b[38;5;124m'\u001b[39m: \u001b[38;5;28mrange\u001b[39m(\u001b[38;5;241m2\u001b[39m, \u001b[38;5;241m5\u001b[39m), \n\u001b[0;32m     30\u001b[0m              \u001b[38;5;124m'\u001b[39m\u001b[38;5;124mforest__max_depth\u001b[39m\u001b[38;5;124m'\u001b[39m: [\u001b[38;5;28;01mNone\u001b[39;00m] \u001b[38;5;241m+\u001b[39m [i \u001b[38;5;28;01mfor\u001b[39;00m i \u001b[38;5;129;01min\u001b[39;00m \u001b[38;5;28mrange\u001b[39m(\u001b[38;5;241m1\u001b[39m, \u001b[38;5;241m3\u001b[39m)],\n\u001b[0;32m     31\u001b[0m              \u001b[38;5;124m'\u001b[39m\u001b[38;5;124mforest__max_features\u001b[39m\u001b[38;5;124m'\u001b[39m: [\u001b[38;5;28mint\u001b[39m(math\u001b[38;5;241m.\u001b[39msqrt(num_features)), num_features \u001b[38;5;241m-\u001b[39m \u001b[38;5;241m1\u001b[39m]}\n\u001b[1;32m---> 33\u001b[0m forest_model, score \u001b[38;5;241m=\u001b[39m \u001b[43mgrid_search_with_cross_validation\u001b[49m\u001b[43m(\u001b[49m\u001b[43mforest_model\u001b[49m\u001b[43m,\u001b[49m\u001b[43m \u001b[49m\u001b[43mforest_grid\u001b[49m\u001b[43m,\u001b[49m\u001b[43m \u001b[49m\u001b[43mk_fold\u001b[49m\u001b[43m,\u001b[49m\u001b[43m \u001b[49m\u001b[43mdf\u001b[49m\u001b[43m)\u001b[49m\n",
      "Cell \u001b[1;32mIn[19], line 8\u001b[0m, in \u001b[0;36mgrid_search_with_cross_validation\u001b[1;34m(model, grid, kf, dataset, scoring)\u001b[0m\n\u001b[0;32m      6\u001b[0m \u001b[38;5;28;01mdef\u001b[39;00m \u001b[38;5;21mgrid_search_with_cross_validation\u001b[39m(model, grid, kf, dataset, scoring\u001b[38;5;241m=\u001b[39m\u001b[38;5;28;01mNone\u001b[39;00m):\n\u001b[0;32m      7\u001b[0m     grid_search \u001b[38;5;241m=\u001b[39m GridSearchCV(model, grid, scoring\u001b[38;5;241m=\u001b[39mscoring, cv\u001b[38;5;241m=\u001b[39mkf, n_jobs\u001b[38;5;241m=\u001b[39m\u001b[38;5;241m-\u001b[39m\u001b[38;5;241m1\u001b[39m)\n\u001b[1;32m----> 8\u001b[0m     \u001b[43mgrid_search\u001b[49m\u001b[38;5;241;43m.\u001b[39;49m\u001b[43mfit\u001b[49m\u001b[43m(\u001b[49m\u001b[43mX_train\u001b[49m\u001b[43m,\u001b[49m\u001b[43m \u001b[49m\u001b[43my_train\u001b[49m\u001b[43m)\u001b[49m\n\u001b[0;32m     10\u001b[0m     score \u001b[38;5;241m=\u001b[39m grid_search\u001b[38;5;241m.\u001b[39mscore(X_val, y_val)\n\u001b[0;32m     12\u001b[0m     \u001b[38;5;28mprint\u001b[39m(\u001b[38;5;124m\"\u001b[39m\u001b[38;5;124mBest cross validation score: \u001b[39m\u001b[38;5;132;01m{}\u001b[39;00m\u001b[38;5;130;01m\\n\u001b[39;00m\u001b[38;5;124m\"\u001b[39m\u001b[38;5;241m.\u001b[39mformat(grid_search\u001b[38;5;241m.\u001b[39mbest_score_))\n",
      "File \u001b[1;32m~\\anaconda3\\lib\\site-packages\\sklearn\\model_selection\\_search.py:874\u001b[0m, in \u001b[0;36mBaseSearchCV.fit\u001b[1;34m(self, X, y, groups, **fit_params)\u001b[0m\n\u001b[0;32m    868\u001b[0m     results \u001b[38;5;241m=\u001b[39m \u001b[38;5;28mself\u001b[39m\u001b[38;5;241m.\u001b[39m_format_results(\n\u001b[0;32m    869\u001b[0m         all_candidate_params, n_splits, all_out, all_more_results\n\u001b[0;32m    870\u001b[0m     )\n\u001b[0;32m    872\u001b[0m     \u001b[38;5;28;01mreturn\u001b[39;00m results\n\u001b[1;32m--> 874\u001b[0m \u001b[38;5;28;43mself\u001b[39;49m\u001b[38;5;241;43m.\u001b[39;49m\u001b[43m_run_search\u001b[49m\u001b[43m(\u001b[49m\u001b[43mevaluate_candidates\u001b[49m\u001b[43m)\u001b[49m\n\u001b[0;32m    876\u001b[0m \u001b[38;5;66;03m# multimetric is determined here because in the case of a callable\u001b[39;00m\n\u001b[0;32m    877\u001b[0m \u001b[38;5;66;03m# self.scoring the return type is only known after calling\u001b[39;00m\n\u001b[0;32m    878\u001b[0m first_test_score \u001b[38;5;241m=\u001b[39m all_out[\u001b[38;5;241m0\u001b[39m][\u001b[38;5;124m\"\u001b[39m\u001b[38;5;124mtest_scores\u001b[39m\u001b[38;5;124m\"\u001b[39m]\n",
      "File \u001b[1;32m~\\anaconda3\\lib\\site-packages\\sklearn\\model_selection\\_search.py:1388\u001b[0m, in \u001b[0;36mGridSearchCV._run_search\u001b[1;34m(self, evaluate_candidates)\u001b[0m\n\u001b[0;32m   1386\u001b[0m \u001b[38;5;28;01mdef\u001b[39;00m \u001b[38;5;21m_run_search\u001b[39m(\u001b[38;5;28mself\u001b[39m, evaluate_candidates):\n\u001b[0;32m   1387\u001b[0m     \u001b[38;5;124;03m\"\"\"Search all candidates in param_grid\"\"\"\u001b[39;00m\n\u001b[1;32m-> 1388\u001b[0m     \u001b[43mevaluate_candidates\u001b[49m\u001b[43m(\u001b[49m\u001b[43mParameterGrid\u001b[49m\u001b[43m(\u001b[49m\u001b[38;5;28;43mself\u001b[39;49m\u001b[38;5;241;43m.\u001b[39;49m\u001b[43mparam_grid\u001b[49m\u001b[43m)\u001b[49m\u001b[43m)\u001b[49m\n",
      "File \u001b[1;32m~\\anaconda3\\lib\\site-packages\\sklearn\\model_selection\\_search.py:851\u001b[0m, in \u001b[0;36mBaseSearchCV.fit.<locals>.evaluate_candidates\u001b[1;34m(candidate_params, cv, more_results)\u001b[0m\n\u001b[0;32m    844\u001b[0m \u001b[38;5;28;01melif\u001b[39;00m \u001b[38;5;28mlen\u001b[39m(out) \u001b[38;5;241m!=\u001b[39m n_candidates \u001b[38;5;241m*\u001b[39m n_splits:\n\u001b[0;32m    845\u001b[0m     \u001b[38;5;28;01mraise\u001b[39;00m \u001b[38;5;167;01mValueError\u001b[39;00m(\n\u001b[0;32m    846\u001b[0m         \u001b[38;5;124m\"\u001b[39m\u001b[38;5;124mcv.split and cv.get_n_splits returned \u001b[39m\u001b[38;5;124m\"\u001b[39m\n\u001b[0;32m    847\u001b[0m         \u001b[38;5;124m\"\u001b[39m\u001b[38;5;124minconsistent results. Expected \u001b[39m\u001b[38;5;132;01m{}\u001b[39;00m\u001b[38;5;124m \u001b[39m\u001b[38;5;124m\"\u001b[39m\n\u001b[0;32m    848\u001b[0m         \u001b[38;5;124m\"\u001b[39m\u001b[38;5;124msplits, got \u001b[39m\u001b[38;5;132;01m{}\u001b[39;00m\u001b[38;5;124m\"\u001b[39m\u001b[38;5;241m.\u001b[39mformat(n_splits, \u001b[38;5;28mlen\u001b[39m(out) \u001b[38;5;241m/\u001b[39m\u001b[38;5;241m/\u001b[39m n_candidates)\n\u001b[0;32m    849\u001b[0m     )\n\u001b[1;32m--> 851\u001b[0m \u001b[43m_warn_or_raise_about_fit_failures\u001b[49m\u001b[43m(\u001b[49m\u001b[43mout\u001b[49m\u001b[43m,\u001b[49m\u001b[43m \u001b[49m\u001b[38;5;28;43mself\u001b[39;49m\u001b[38;5;241;43m.\u001b[39;49m\u001b[43merror_score\u001b[49m\u001b[43m)\u001b[49m\n\u001b[0;32m    853\u001b[0m \u001b[38;5;66;03m# For callable self.scoring, the return type is only know after\u001b[39;00m\n\u001b[0;32m    854\u001b[0m \u001b[38;5;66;03m# calling. If the return type is a dictionary, the error scores\u001b[39;00m\n\u001b[0;32m    855\u001b[0m \u001b[38;5;66;03m# can now be inserted with the correct key. The type checking\u001b[39;00m\n\u001b[0;32m    856\u001b[0m \u001b[38;5;66;03m# of out will be done in `_insert_error_scores`.\u001b[39;00m\n\u001b[0;32m    857\u001b[0m \u001b[38;5;28;01mif\u001b[39;00m callable(\u001b[38;5;28mself\u001b[39m\u001b[38;5;241m.\u001b[39mscoring):\n",
      "File \u001b[1;32m~\\anaconda3\\lib\\site-packages\\sklearn\\model_selection\\_validation.py:367\u001b[0m, in \u001b[0;36m_warn_or_raise_about_fit_failures\u001b[1;34m(results, error_score)\u001b[0m\n\u001b[0;32m    360\u001b[0m \u001b[38;5;28;01mif\u001b[39;00m num_failed_fits \u001b[38;5;241m==\u001b[39m num_fits:\n\u001b[0;32m    361\u001b[0m     all_fits_failed_message \u001b[38;5;241m=\u001b[39m (\n\u001b[0;32m    362\u001b[0m         \u001b[38;5;124mf\u001b[39m\u001b[38;5;124m\"\u001b[39m\u001b[38;5;130;01m\\n\u001b[39;00m\u001b[38;5;124mAll the \u001b[39m\u001b[38;5;132;01m{\u001b[39;00mnum_fits\u001b[38;5;132;01m}\u001b[39;00m\u001b[38;5;124m fits failed.\u001b[39m\u001b[38;5;130;01m\\n\u001b[39;00m\u001b[38;5;124m\"\u001b[39m\n\u001b[0;32m    363\u001b[0m         \u001b[38;5;124m\"\u001b[39m\u001b[38;5;124mIt is very likely that your model is misconfigured.\u001b[39m\u001b[38;5;130;01m\\n\u001b[39;00m\u001b[38;5;124m\"\u001b[39m\n\u001b[0;32m    364\u001b[0m         \u001b[38;5;124m\"\u001b[39m\u001b[38;5;124mYou can try to debug the error by setting error_score=\u001b[39m\u001b[38;5;124m'\u001b[39m\u001b[38;5;124mraise\u001b[39m\u001b[38;5;124m'\u001b[39m\u001b[38;5;124m.\u001b[39m\u001b[38;5;130;01m\\n\u001b[39;00m\u001b[38;5;130;01m\\n\u001b[39;00m\u001b[38;5;124m\"\u001b[39m\n\u001b[0;32m    365\u001b[0m         \u001b[38;5;124mf\u001b[39m\u001b[38;5;124m\"\u001b[39m\u001b[38;5;124mBelow are more details about the failures:\u001b[39m\u001b[38;5;130;01m\\n\u001b[39;00m\u001b[38;5;132;01m{\u001b[39;00mfit_errors_summary\u001b[38;5;132;01m}\u001b[39;00m\u001b[38;5;124m\"\u001b[39m\n\u001b[0;32m    366\u001b[0m     )\n\u001b[1;32m--> 367\u001b[0m     \u001b[38;5;28;01mraise\u001b[39;00m \u001b[38;5;167;01mValueError\u001b[39;00m(all_fits_failed_message)\n\u001b[0;32m    369\u001b[0m \u001b[38;5;28;01melse\u001b[39;00m:\n\u001b[0;32m    370\u001b[0m     some_fits_failed_message \u001b[38;5;241m=\u001b[39m (\n\u001b[0;32m    371\u001b[0m         \u001b[38;5;124mf\u001b[39m\u001b[38;5;124m\"\u001b[39m\u001b[38;5;130;01m\\n\u001b[39;00m\u001b[38;5;132;01m{\u001b[39;00mnum_failed_fits\u001b[38;5;132;01m}\u001b[39;00m\u001b[38;5;124m fits failed out of a total of \u001b[39m\u001b[38;5;132;01m{\u001b[39;00mnum_fits\u001b[38;5;132;01m}\u001b[39;00m\u001b[38;5;124m.\u001b[39m\u001b[38;5;130;01m\\n\u001b[39;00m\u001b[38;5;124m\"\u001b[39m\n\u001b[0;32m    372\u001b[0m         \u001b[38;5;124m\"\u001b[39m\u001b[38;5;124mThe score on these train-test partitions for these parameters\u001b[39m\u001b[38;5;124m\"\u001b[39m\n\u001b[1;32m   (...)\u001b[0m\n\u001b[0;32m    376\u001b[0m         \u001b[38;5;124mf\u001b[39m\u001b[38;5;124m\"\u001b[39m\u001b[38;5;124mBelow are more details about the failures:\u001b[39m\u001b[38;5;130;01m\\n\u001b[39;00m\u001b[38;5;132;01m{\u001b[39;00mfit_errors_summary\u001b[38;5;132;01m}\u001b[39;00m\u001b[38;5;124m\"\u001b[39m\n\u001b[0;32m    377\u001b[0m     )\n",
      "\u001b[1;31mValueError\u001b[0m: \nAll the 900 fits failed.\nIt is very likely that your model is misconfigured.\nYou can try to debug the error by setting error_score='raise'.\n\nBelow are more details about the failures:\n--------------------------------------------------------------------------------\n900 fits failed with the following error:\nTraceback (most recent call last):\n  File \"C:\\Users\\nicco\\anaconda3\\lib\\site-packages\\sklearn\\model_selection\\_validation.py\", line 686, in _fit_and_score\n    estimator.fit(X_train, y_train, **fit_params)\n  File \"C:\\Users\\nicco\\anaconda3\\lib\\site-packages\\sklearn\\pipeline.py\", line 405, in fit\n    self._final_estimator.fit(Xt, y, **fit_params_last_step)\n  File \"C:\\Users\\nicco\\anaconda3\\lib\\site-packages\\sklearn\\ensemble\\_forest.py\", line 385, in fit\n    y, expanded_class_weight = self._validate_y_class_weight(y)\n  File \"C:\\Users\\nicco\\anaconda3\\lib\\site-packages\\sklearn\\ensemble\\_forest.py\", line 746, in _validate_y_class_weight\n    check_classification_targets(y)\n  File \"C:\\Users\\nicco\\anaconda3\\lib\\site-packages\\sklearn\\utils\\multiclass.py\", line 207, in check_classification_targets\n    raise ValueError(\"Unknown label type: %r\" % y_type)\nValueError: Unknown label type: 'continuous'\n"
     ]
    }
   ],
   "source": [
    "from sklearn.ensemble import RandomForestClassifier\n",
    "from sklearn.model_selection import GridSearchCV\n",
    "from sklearn.model_selection import KFold\n",
    "import math\n",
    "\n",
    "def grid_search_with_cross_validation(model, grid, kf, dataset, scoring=None):\n",
    "    grid_search = GridSearchCV(model, grid, scoring=scoring, cv=kf, n_jobs=-1)\n",
    "    grid_search.fit(X_train, y_train)\n",
    "    \n",
    "    score = grid_search.score(X_val, y_val)\n",
    "\n",
    "    print(\"Best cross validation score: {}\\n\".format(grid_search.best_score_))\n",
    "    print(\"             Test set score: {}\\n\".format(score))\n",
    "    print(\"                Best params: {}\\n\".format(grid_search.best_params_))\n",
    "    print(\"             Best estimator: {}\\n\".format(grid_search.best_estimator_))\n",
    "    return grid_search.best_estimator_, score\n",
    "\n",
    "forest_model = Pipeline([\n",
    "    (\"scaler\", StandardScaler()),\n",
    "    (\"forest\", RandomForestClassifier(n_jobs=-1, random_state=42))\n",
    "])\n",
    "\n",
    "print(y_val.describe())\n",
    "num_features = df.columns.size\n",
    "k_fold = KFold(n_splits=5, shuffle=True, random_state=42)\n",
    "\n",
    "forest_grid = {\"scaler\": [None, StandardScaler()],\n",
    "             'forest__n_estimators': range(5, 10),\n",
    "             'forest__min_samples_split': range(2, 5), \n",
    "             'forest__max_depth': [None] + [i for i in range(1, 3)],\n",
    "             'forest__max_features': [int(math.sqrt(num_features)), num_features - 1]}\n",
    "\n",
    "forest_model, score = grid_search_with_cross_validation(forest_model, forest_grid, k_fold, df)"
   ]
  },
  {
   "cell_type": "code",
   "execution_count": 14,
   "id": "097544a9",
   "metadata": {
    "colab": {
     "base_uri": "https://localhost:8080/",
     "height": 448
    },
    "id": "097544a9",
    "outputId": "584e8cf9-85f0-4d63-8e20-ba5308ebb7ee"
   },
   "outputs": [
    {
     "data": {
      "text/plain": [
       "[<matplotlib.lines.Line2D at 0x7fe32842c4c0>]"
      ]
     },
     "execution_count": 14,
     "metadata": {},
     "output_type": "execute_result"
    },
    {
     "data": {
      "image/png": "[encoded data removed]",
      "text/plain": [
       "<Figure size 640x480 with 1 Axes>"
      ]
     },
     "metadata": {},
     "output_type": "display_data"
    }
   ],
   "source": [
    "plt.plot(range(200), y_val[:200])"
   ]
  },
  {
   "cell_type": "code",
   "execution_count": 23,
   "id": "oiZYx7zAjQvQ",
   "metadata": {
    "colab": {
     "base_uri": "https://localhost:8080/",
     "height": 449
    },
    "id": "oiZYx7zAjQvQ",
    "outputId": "9c820da4-f013-42cb-9d0f-b1bb09368064"
   },
   "outputs": [
    {
     "data": {
      "text/plain": [
       "[<matplotlib.lines.Line2D at 0x7fe32817df30>]"
      ]
     },
     "execution_count": 23,
     "metadata": {},
     "output_type": "execute_result"
    },
    {
     "data": {
      "image/png": "[encoded data removed]",
      "text/plain": [
       "<Figure size 640x480 with 1 Axes>"
      ]
     },
     "metadata": {},
     "output_type": "display_data"
    }
   ],
   "source": [
    "plt.plot(range(200), model_pip.predict(X_val[:200]))"
   ]
  },
  {
   "cell_type": "code",
   "execution_count": null,
   "id": "-KAzHb2Ikj8F",
   "metadata": {
    "id": "-KAzHb2Ikj8F"
   },
   "outputs": [],
   "source": []
  }
 ],
 "metadata": {
  "colab": {
   "provenance": []
  },
  "kernelspec": {
   "display_name": "Python 3 (ipykernel)",
   "language": "python",
   "name": "python3"
  },
  "language_info": {
   "codemirror_mode": {
    "name": "ipython",
    "version": 3
   },
   "file_extension": ".py",
   "mimetype": "text/x-python",
   "name": "python",
   "nbconvert_exporter": "python",
   "pygments_lexer": "ipython3",
   "version": "3.10.9"
  }
 },
 "nbformat": 4,
 "nbformat_minor": 5
}
