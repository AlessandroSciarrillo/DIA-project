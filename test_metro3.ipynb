{
 "cells": [
  {
   "cell_type": "markdown",
   "metadata": {},
   "source": [
    "# Progetto Applicazioni Data Intensive 2023\n",
    "## Riconoscimento di un'anomalia\n",
    "\n",
    "#### Autori: Alessandro Sciarrillo e Niccolò Mussoni"
   ]
  },
  {
   "cell_type": "code",
   "execution_count": 16,
   "metadata": {},
   "outputs": [],
   "source": [
    "import datetime\n",
    "import numpy as np\n",
    "import pandas as pd\n",
    "import matplotlib.pyplot as plt\n",
    "import sklearn"
   ]
  },
  {
   "cell_type": "markdown",
   "metadata": {},
   "source": [
    "NOTE\n",
    "\n",
    "- dati che si discostano troppo da q3 + 3*iqr dove iqr = q3-q1\n",
    "- anomalie prolungate considerate come failure -> valutare contare consecutive in api\n",
    "- mostrare valori dei sensori durante le anomalie"
   ]
  },
  {
   "cell_type": "markdown",
   "metadata": {},
   "source": [
    "## Contesto e Obbiettivo del modello\n",
    "(Linee guida: Descrivere in modo chiaro il contesto e l’obiettivo del modello di predizione, la fonte e la struttura del\n",
    "dataset utilizzato e le variabili che contiene. Eseguire eventualmente una prima scrematura dei dati,\n",
    "eliminando ad es. variabili palesemente non informative (es. identificatori) o con molti dati nulli.)"
   ]
  },
  {
   "cell_type": "markdown",
   "metadata": {},
   "source": [
    "## Obiettivo TODO"
   ]
  },
  {
   "cell_type": "markdown",
   "metadata": {},
   "source": [
    "## Dataset"
   ]
  },
  {
   "cell_type": "markdown",
   "metadata": {},
   "source": [
    "Il dataset raccoglie le misurazioni effettuate dall'APU di un treno nella metro di Porto. Ci concentriamo su una serie di sensori analogici e digitali installati sul treno. \n",
    "Le misurazioni dei sensori sono state raccolte da Febbraio a Settembre 2020, con un intervallo temporale di 10 secondi tra loro, dove i 15 segnali sono raccolti da un dispositivo embedded a bordo che è capace di trasferire i dati al server usando il protocollo TCP/IP."
   ]
  },
  {
   "cell_type": "code",
   "execution_count": 117,
   "metadata": {},
   "outputs": [
    {
     "data": {
      "text/html": [
       "<div>\n",
       "<style scoped>\n",
       "    .dataframe tbody tr th:only-of-type {\n",
       "        vertical-align: middle;\n",
       "    }\n",
       "\n",
       "    .dataframe tbody tr th {\n",
       "        vertical-align: top;\n",
       "    }\n",
       "\n",
       "    .dataframe thead th {\n",
       "        text-align: right;\n",
       "    }\n",
       "</style>\n",
       "<table border=\"1\" class=\"dataframe\">\n",
       "  <thead>\n",
       "    <tr style=\"text-align: right;\">\n",
       "      <th></th>\n",
       "      <th>Unnamed: 0</th>\n",
       "      <th>timestamp</th>\n",
       "      <th>TP2</th>\n",
       "      <th>TP3</th>\n",
       "      <th>H1</th>\n",
       "      <th>DV_pressure</th>\n",
       "      <th>Reservoirs</th>\n",
       "      <th>Oil_temperature</th>\n",
       "      <th>Motor_current</th>\n",
       "      <th>COMP</th>\n",
       "      <th>DV_eletric</th>\n",
       "      <th>Towers</th>\n",
       "      <th>MPG</th>\n",
       "      <th>LPS</th>\n",
       "      <th>Pressure_switch</th>\n",
       "      <th>Oil_level</th>\n",
       "      <th>Caudal_impulses</th>\n",
       "    </tr>\n",
       "  </thead>\n",
       "  <tbody>\n",
       "    <tr>\n",
       "      <th>0</th>\n",
       "      <td>0</td>\n",
       "      <td>2020-02-01 00:00:00</td>\n",
       "      <td>-0.012</td>\n",
       "      <td>9.358</td>\n",
       "      <td>9.340</td>\n",
       "      <td>-0.024</td>\n",
       "      <td>9.358</td>\n",
       "      <td>53.600</td>\n",
       "      <td>0.0400</td>\n",
       "      <td>1.0</td>\n",
       "      <td>0.0</td>\n",
       "      <td>1.0</td>\n",
       "      <td>1.0</td>\n",
       "      <td>0.0</td>\n",
       "      <td>1.0</td>\n",
       "      <td>1.0</td>\n",
       "      <td>1.0</td>\n",
       "    </tr>\n",
       "    <tr>\n",
       "      <th>1</th>\n",
       "      <td>10</td>\n",
       "      <td>2020-02-01 00:00:10</td>\n",
       "      <td>-0.014</td>\n",
       "      <td>9.348</td>\n",
       "      <td>9.332</td>\n",
       "      <td>-0.022</td>\n",
       "      <td>9.348</td>\n",
       "      <td>53.675</td>\n",
       "      <td>0.0400</td>\n",
       "      <td>1.0</td>\n",
       "      <td>0.0</td>\n",
       "      <td>1.0</td>\n",
       "      <td>1.0</td>\n",
       "      <td>0.0</td>\n",
       "      <td>1.0</td>\n",
       "      <td>1.0</td>\n",
       "      <td>1.0</td>\n",
       "    </tr>\n",
       "    <tr>\n",
       "      <th>2</th>\n",
       "      <td>20</td>\n",
       "      <td>2020-02-01 00:00:19</td>\n",
       "      <td>-0.012</td>\n",
       "      <td>9.338</td>\n",
       "      <td>9.322</td>\n",
       "      <td>-0.022</td>\n",
       "      <td>9.338</td>\n",
       "      <td>53.600</td>\n",
       "      <td>0.0425</td>\n",
       "      <td>1.0</td>\n",
       "      <td>0.0</td>\n",
       "      <td>1.0</td>\n",
       "      <td>1.0</td>\n",
       "      <td>0.0</td>\n",
       "      <td>1.0</td>\n",
       "      <td>1.0</td>\n",
       "      <td>1.0</td>\n",
       "    </tr>\n",
       "    <tr>\n",
       "      <th>3</th>\n",
       "      <td>30</td>\n",
       "      <td>2020-02-01 00:00:29</td>\n",
       "      <td>-0.012</td>\n",
       "      <td>9.328</td>\n",
       "      <td>9.312</td>\n",
       "      <td>-0.022</td>\n",
       "      <td>9.328</td>\n",
       "      <td>53.425</td>\n",
       "      <td>0.0400</td>\n",
       "      <td>1.0</td>\n",
       "      <td>0.0</td>\n",
       "      <td>1.0</td>\n",
       "      <td>1.0</td>\n",
       "      <td>0.0</td>\n",
       "      <td>1.0</td>\n",
       "      <td>1.0</td>\n",
       "      <td>1.0</td>\n",
       "    </tr>\n",
       "    <tr>\n",
       "      <th>4</th>\n",
       "      <td>40</td>\n",
       "      <td>2020-02-01 00:00:39</td>\n",
       "      <td>-0.012</td>\n",
       "      <td>9.318</td>\n",
       "      <td>9.302</td>\n",
       "      <td>-0.022</td>\n",
       "      <td>9.318</td>\n",
       "      <td>53.475</td>\n",
       "      <td>0.0400</td>\n",
       "      <td>1.0</td>\n",
       "      <td>0.0</td>\n",
       "      <td>1.0</td>\n",
       "      <td>1.0</td>\n",
       "      <td>0.0</td>\n",
       "      <td>1.0</td>\n",
       "      <td>1.0</td>\n",
       "      <td>1.0</td>\n",
       "    </tr>\n",
       "  </tbody>\n",
       "</table>\n",
       "</div>"
      ],
      "text/plain": [
       "   Unnamed: 0           timestamp    TP2    TP3     H1  DV_pressure  \\\n",
       "0           0 2020-02-01 00:00:00 -0.012  9.358  9.340       -0.024   \n",
       "1          10 2020-02-01 00:00:10 -0.014  9.348  9.332       -0.022   \n",
       "2          20 2020-02-01 00:00:19 -0.012  9.338  9.322       -0.022   \n",
       "3          30 2020-02-01 00:00:29 -0.012  9.328  9.312       -0.022   \n",
       "4          40 2020-02-01 00:00:39 -0.012  9.318  9.302       -0.022   \n",
       "\n",
       "   Reservoirs  Oil_temperature  Motor_current  COMP  DV_eletric  Towers  MPG  \\\n",
       "0       9.358           53.600         0.0400   1.0         0.0     1.0  1.0   \n",
       "1       9.348           53.675         0.0400   1.0         0.0     1.0  1.0   \n",
       "2       9.338           53.600         0.0425   1.0         0.0     1.0  1.0   \n",
       "3       9.328           53.425         0.0400   1.0         0.0     1.0  1.0   \n",
       "4       9.318           53.475         0.0400   1.0         0.0     1.0  1.0   \n",
       "\n",
       "   LPS  Pressure_switch  Oil_level  Caudal_impulses  \n",
       "0  0.0              1.0        1.0              1.0  \n",
       "1  0.0              1.0        1.0              1.0  \n",
       "2  0.0              1.0        1.0              1.0  \n",
       "3  0.0              1.0        1.0              1.0  \n",
       "4  0.0              1.0        1.0              1.0  "
      ]
     },
     "execution_count": 117,
     "metadata": {},
     "output_type": "execute_result"
    }
   ],
   "source": [
    "#dataset_full = pd.read_csv(\"../../Downloads/MetroPT3(AirCompressor).csv\", sep=\",\", index_col=\"timestamp\", parse_dates=[\"timestamp\"])\n",
    "dataset_full = pd.read_csv(\"MetroPT3(AirCompressor).csv\", sep=\",\", parse_dates=[\"timestamp\"])\n",
    "dataset_full.head()"
   ]
  },
  {
   "cell_type": "markdown",
   "metadata": {},
   "source": [
    "Rimuoviamo la prima colonna, in quanto contiene degli identificatori non informativi per il nostro scopo, e utilizziamo i timestamp come indice."
   ]
  },
  {
   "cell_type": "code",
   "execution_count": 118,
   "metadata": {},
   "outputs": [
    {
     "data": {
      "text/html": [
       "<div>\n",
       "<style scoped>\n",
       "    .dataframe tbody tr th:only-of-type {\n",
       "        vertical-align: middle;\n",
       "    }\n",
       "\n",
       "    .dataframe tbody tr th {\n",
       "        vertical-align: top;\n",
       "    }\n",
       "\n",
       "    .dataframe thead th {\n",
       "        text-align: right;\n",
       "    }\n",
       "</style>\n",
       "<table border=\"1\" class=\"dataframe\">\n",
       "  <thead>\n",
       "    <tr style=\"text-align: right;\">\n",
       "      <th></th>\n",
       "      <th>TP2</th>\n",
       "      <th>TP3</th>\n",
       "      <th>H1</th>\n",
       "      <th>DV_pressure</th>\n",
       "      <th>Reservoirs</th>\n",
       "      <th>Oil_temperature</th>\n",
       "      <th>Motor_current</th>\n",
       "      <th>COMP</th>\n",
       "      <th>DV_eletric</th>\n",
       "      <th>Towers</th>\n",
       "      <th>MPG</th>\n",
       "      <th>LPS</th>\n",
       "      <th>Pressure_switch</th>\n",
       "      <th>Oil_level</th>\n",
       "      <th>Caudal_impulses</th>\n",
       "    </tr>\n",
       "    <tr>\n",
       "      <th>timestamp</th>\n",
       "      <th></th>\n",
       "      <th></th>\n",
       "      <th></th>\n",
       "      <th></th>\n",
       "      <th></th>\n",
       "      <th></th>\n",
       "      <th></th>\n",
       "      <th></th>\n",
       "      <th></th>\n",
       "      <th></th>\n",
       "      <th></th>\n",
       "      <th></th>\n",
       "      <th></th>\n",
       "      <th></th>\n",
       "      <th></th>\n",
       "    </tr>\n",
       "  </thead>\n",
       "  <tbody>\n",
       "    <tr>\n",
       "      <th>2020-02-01 00:00:00</th>\n",
       "      <td>-0.012</td>\n",
       "      <td>9.358</td>\n",
       "      <td>9.340</td>\n",
       "      <td>-0.024</td>\n",
       "      <td>9.358</td>\n",
       "      <td>53.600</td>\n",
       "      <td>0.0400</td>\n",
       "      <td>1.0</td>\n",
       "      <td>0.0</td>\n",
       "      <td>1.0</td>\n",
       "      <td>1.0</td>\n",
       "      <td>0.0</td>\n",
       "      <td>1.0</td>\n",
       "      <td>1.0</td>\n",
       "      <td>1.0</td>\n",
       "    </tr>\n",
       "    <tr>\n",
       "      <th>2020-02-01 00:00:10</th>\n",
       "      <td>-0.014</td>\n",
       "      <td>9.348</td>\n",
       "      <td>9.332</td>\n",
       "      <td>-0.022</td>\n",
       "      <td>9.348</td>\n",
       "      <td>53.675</td>\n",
       "      <td>0.0400</td>\n",
       "      <td>1.0</td>\n",
       "      <td>0.0</td>\n",
       "      <td>1.0</td>\n",
       "      <td>1.0</td>\n",
       "      <td>0.0</td>\n",
       "      <td>1.0</td>\n",
       "      <td>1.0</td>\n",
       "      <td>1.0</td>\n",
       "    </tr>\n",
       "    <tr>\n",
       "      <th>2020-02-01 00:00:19</th>\n",
       "      <td>-0.012</td>\n",
       "      <td>9.338</td>\n",
       "      <td>9.322</td>\n",
       "      <td>-0.022</td>\n",
       "      <td>9.338</td>\n",
       "      <td>53.600</td>\n",
       "      <td>0.0425</td>\n",
       "      <td>1.0</td>\n",
       "      <td>0.0</td>\n",
       "      <td>1.0</td>\n",
       "      <td>1.0</td>\n",
       "      <td>0.0</td>\n",
       "      <td>1.0</td>\n",
       "      <td>1.0</td>\n",
       "      <td>1.0</td>\n",
       "    </tr>\n",
       "    <tr>\n",
       "      <th>2020-02-01 00:00:29</th>\n",
       "      <td>-0.012</td>\n",
       "      <td>9.328</td>\n",
       "      <td>9.312</td>\n",
       "      <td>-0.022</td>\n",
       "      <td>9.328</td>\n",
       "      <td>53.425</td>\n",
       "      <td>0.0400</td>\n",
       "      <td>1.0</td>\n",
       "      <td>0.0</td>\n",
       "      <td>1.0</td>\n",
       "      <td>1.0</td>\n",
       "      <td>0.0</td>\n",
       "      <td>1.0</td>\n",
       "      <td>1.0</td>\n",
       "      <td>1.0</td>\n",
       "    </tr>\n",
       "    <tr>\n",
       "      <th>2020-02-01 00:00:39</th>\n",
       "      <td>-0.012</td>\n",
       "      <td>9.318</td>\n",
       "      <td>9.302</td>\n",
       "      <td>-0.022</td>\n",
       "      <td>9.318</td>\n",
       "      <td>53.475</td>\n",
       "      <td>0.0400</td>\n",
       "      <td>1.0</td>\n",
       "      <td>0.0</td>\n",
       "      <td>1.0</td>\n",
       "      <td>1.0</td>\n",
       "      <td>0.0</td>\n",
       "      <td>1.0</td>\n",
       "      <td>1.0</td>\n",
       "      <td>1.0</td>\n",
       "    </tr>\n",
       "  </tbody>\n",
       "</table>\n",
       "</div>"
      ],
      "text/plain": [
       "                       TP2    TP3     H1  DV_pressure  Reservoirs  \\\n",
       "timestamp                                                           \n",
       "2020-02-01 00:00:00 -0.012  9.358  9.340       -0.024       9.358   \n",
       "2020-02-01 00:00:10 -0.014  9.348  9.332       -0.022       9.348   \n",
       "2020-02-01 00:00:19 -0.012  9.338  9.322       -0.022       9.338   \n",
       "2020-02-01 00:00:29 -0.012  9.328  9.312       -0.022       9.328   \n",
       "2020-02-01 00:00:39 -0.012  9.318  9.302       -0.022       9.318   \n",
       "\n",
       "                     Oil_temperature  Motor_current  COMP  DV_eletric  Towers  \\\n",
       "timestamp                                                                       \n",
       "2020-02-01 00:00:00           53.600         0.0400   1.0         0.0     1.0   \n",
       "2020-02-01 00:00:10           53.675         0.0400   1.0         0.0     1.0   \n",
       "2020-02-01 00:00:19           53.600         0.0425   1.0         0.0     1.0   \n",
       "2020-02-01 00:00:29           53.425         0.0400   1.0         0.0     1.0   \n",
       "2020-02-01 00:00:39           53.475         0.0400   1.0         0.0     1.0   \n",
       "\n",
       "                     MPG  LPS  Pressure_switch  Oil_level  Caudal_impulses  \n",
       "timestamp                                                                   \n",
       "2020-02-01 00:00:00  1.0  0.0              1.0        1.0              1.0  \n",
       "2020-02-01 00:00:10  1.0  0.0              1.0        1.0              1.0  \n",
       "2020-02-01 00:00:19  1.0  0.0              1.0        1.0              1.0  \n",
       "2020-02-01 00:00:29  1.0  0.0              1.0        1.0              1.0  \n",
       "2020-02-01 00:00:39  1.0  0.0              1.0        1.0              1.0  "
      ]
     },
     "execution_count": 118,
     "metadata": {},
     "output_type": "execute_result"
    }
   ],
   "source": [
    "dataset = dataset_full.drop(dataset_full.columns[[0]], axis=1)\n",
    "dataset.set_index([\"timestamp\"],  inplace=True)\n",
    "dataset.head()"
   ]
  },
  {
   "cell_type": "markdown",
   "metadata": {},
   "source": [
    "## Variabili\n",
    "### Valori analogici\n",
    "- **`TP2`**: pressione del compressore [bar]\n",
    "- **`TP3`**: pressione generata nel pannello pneumatico [bar]\n",
    "- **`H1`**: pressione generata a causa di un calo di pressione quando avviene una scarica del filtro separatore ciclonico [bar]\n",
    "- **`DV_pressure`**: misura del calo di pressione generato quando le torri scaricano gli essiccatori d'aria [bar]\n",
    "- **`Reservoirs`**: pressione sul fondo dei serbatoi [bar]\n",
    "- **`Motor_Current`**: corrente di una fase del motore trifase [A] \n",
    "    - 0A - spento \n",
    "    - 4A - assenza di carico\n",
    "    - 7A - sotto carico \n",
    "    - 9A - in funzione\n",
    "- **`Oil_Temperature`**: temperatura dell'olio nel compressore [°C]\n",
    "\n",
    "### Valori digitali\n",
    "- **`COMP`**: segnale della valvola di aspirazione dell'aria nel compressore\n",
    "    - acceso quando non viene aspirata aria, indicando che il compressore è spento o sta lavorando in assenza di carico\n",
    "- **`DV_electric`**: segnale che controlla la valvola di scarico del compressore \n",
    "    - spento se il compressore è spento o sta lavorando in assenza di carico\n",
    "- **`TOWERS`**: segnale che indica quale torre responsabile dell'umidità dell'aria sta lavorando\n",
    "    - se spento sta lavorando la prima torre, quella responsabile dell'essicatura dell'aria \n",
    "    - se acceso sta lavorando la seconda torre, quella responsabile del rilascio dell'umidità rimossa dall'aria\n",
    "- **`MPG`**: segnale che accende il compressore sotto carico attivando la valvola di aspirazione quando la pressione nell'APU scende sotto 8.2 bar. Attiva il sensore COMP, che ha lo stesso comportamento\n",
    "- **`LPS`**: segnale che si accende quando la pressione scende sotto 7 bar\n",
    "- **`Pressure Switch`**: segnale che rileva la fase di scarico nelle torri di essicazione\n",
    "- **`Oil_Level`**: segnale che rileva il livello dell'olio nel compressore\n",
    "    - acceso quando il livello dell'olio è sotto i valori attesi\n",
    "- **`Caudal_Impulse`**: segnale che conta gli impulsi generati dall'aria che va dall'APU ai serbatoi."
   ]
  },
  {
   "cell_type": "markdown",
   "metadata": {},
   "source": [
    "### Variabile di anomalia\n",
    "Dal paper che ha raccolto questi dati abbiamo ricavato gli intervalli di data-ora in cui un esperto ha determinato se ci fossero state anomalie nell'APU, comprese nel periodo da Aprile a Luglio 2020"
   ]
  },
  {
   "cell_type": "code",
   "execution_count": 119,
   "metadata": {},
   "outputs": [
    {
     "name": "stderr",
     "output_type": "stream",
     "text": [
      "C:\\Users\\nicco\\AppData\\Local\\Temp\\ipykernel_13288\\3794804908.py:7: SettingWithCopyWarning: \n",
      "A value is trying to be set on a copy of a slice from a DataFrame\n",
      "\n",
      "See the caveats in the documentation: https://pandas.pydata.org/pandas-docs/stable/user_guide/indexing.html#returning-a-view-versus-a-copy\n",
      "  dataset[\"anomaly\"][mask] = 1\n"
     ]
    }
   ],
   "source": [
    "def set_anomaly(anomaly_dates):\n",
    "    dataset[\"anomaly\"] = 0\n",
    "    for s, e in anomaly_dates:\n",
    "        start = [int(st) for st in s.split(',')]\n",
    "        end = [int(en) for en in e.split(',')]\n",
    "        mask = (dataset.index >= datetime.datetime(*start)) & (dataset.index <= datetime.datetime(*end))\n",
    "        dataset[\"anomaly\"][mask] = 1 \n",
    "        \n",
    "anomaly_dates = [\n",
    "    ('2020,4,12,11,50,0', '2020,4,12,23,30,0'),\n",
    "    ('2020,4,18,0,0,0', '2020,4,18,23,59,0'),\n",
    "    ('2020,4,19,0,0,0', '2020,4,19,1,30,0'),\n",
    "    ('2020,4,29,3,20,0', '2020,4,29,4,0,0'),\n",
    "    ('2020,4,29,22,0,0', '2020,4,29,22,20,0'),\n",
    "    ('2020,5,13,14,0,0', '2020,5,13,23,59,0'),\n",
    "    ('2020,5,18,5,0,0', '2020,5,18,5,30,0'),\n",
    "    ('2020,5,19,10,10,0', '2020,5,19,11,0,0'),\n",
    "    ('2020,5,19,22,10,0', '2020,5,19,23,59,0'),\n",
    "    ('2020,5,20,0,0,0', '2020,5,20,20,0,0'),\n",
    "    ('2020,5,23,9,50,0', '2020,5,23,10,10,0'),\n",
    "    ('2020,5,29,23,30,0', '2020,5,29,23,59,0'),\n",
    "    ('2020,5,30,0,0,0', '2020,5,30,6,0,0'),\n",
    "    ('2020,6,1,15,0,0', '2020,6,1,15,40,0'),\n",
    "    ('2020,6,3,10,0,0', '2020,6,3,11,0,0'),\n",
    "    ('2020,6,5,10,0,0', '2020,6,5,23,59,0'),\n",
    "    ('2020,6,6,0,0,0', '2020,6,6,23,59,0'),\n",
    "    ('2020,6,7,0,0,0', '2020,6,7,14,30,0'),\n",
    "    ('2020,7,8,17,30,0', '2020,7,8,19,0,0'),\n",
    "    ('2020,7,15,14,30,0', '2020,7,15,19,0,0'),\n",
    "    ('2020,7,17,4,30,0', '2020,7,17,5,30,0'),\n",
    "]\n",
    "\n",
    "set_anomaly(anomaly_dates)"
   ]
  },
  {
   "cell_type": "markdown",
   "metadata": {},
   "source": [
    "## Analisi Esplorativa\n",
    "(Linee guida: Eseguire un’analisi esplorativa del dataset, riportando statistiche generali (medie, quartili, valori distinti,\n",
    "indici di correlazione, …) e distribuzioni delle variabili in tabelle e grafici (a torta, istogrammi, a dispersione,\n",
    "…). Commentare adeguatamente i risultati dell’analisi ed utilizzarli eventualmente per eliminare dati non\n",
    "utilizzabili nell’analisi.)"
   ]
  },
  {
   "cell_type": "code",
   "execution_count": 21,
   "metadata": {},
   "outputs": [
    {
     "data": {
      "text/plain": [
       "timestamp\n",
       "2020-02-01 00:00:00    1\n",
       "2020-02-01 00:00:10    1\n",
       "2020-02-01 00:00:19    1\n",
       "2020-02-01 00:00:29    1\n",
       "2020-02-01 00:00:39    1\n",
       "                      ..\n",
       "2020-09-01 03:59:10    1\n",
       "2020-09-01 03:59:20    1\n",
       "2020-09-01 03:59:30    1\n",
       "2020-09-01 03:59:40    1\n",
       "2020-09-01 03:59:50    1\n",
       "Name: COMP, Length: 1516948, dtype: uint8"
      ]
     },
     "execution_count": 21,
     "metadata": {},
     "output_type": "execute_result"
    }
   ],
   "source": [
    "dataset[\"COMP\"].astype(np.uint8)"
   ]
  },
  {
   "cell_type": "markdown",
   "metadata": {},
   "source": [
    "## Preparazione Dati\n",
    "(Linee guida: Preparare i dati per l’addestramento e la validazione dei modelli di predizione: isolare la variabile “target”\n",
    "da predire e le variabili predittive, suddividere i dati in training e test set, eseguire eventuali operazioni di\n",
    "preprocessing come ad es. one-hot encoding di variabili categoriche e oversampling o undersampling in\n",
    "caso di classi sbilanciate.)"
   ]
  },
  {
   "cell_type": "code",
   "execution_count": 97,
   "metadata": {},
   "outputs": [
    {
     "data": {
      "text/html": [
       "<div>\n",
       "<style scoped>\n",
       "    .dataframe tbody tr th:only-of-type {\n",
       "        vertical-align: middle;\n",
       "    }\n",
       "\n",
       "    .dataframe tbody tr th {\n",
       "        vertical-align: top;\n",
       "    }\n",
       "\n",
       "    .dataframe thead th {\n",
       "        text-align: right;\n",
       "    }\n",
       "</style>\n",
       "<table border=\"1\" class=\"dataframe\">\n",
       "  <thead>\n",
       "    <tr style=\"text-align: right;\">\n",
       "      <th></th>\n",
       "      <th>COMP</th>\n",
       "      <th>DV_eletric</th>\n",
       "      <th>Towers</th>\n",
       "      <th>MPG</th>\n",
       "      <th>LPS</th>\n",
       "      <th>Pressure_switch</th>\n",
       "      <th>Oil_level</th>\n",
       "      <th>Caudal_impulses</th>\n",
       "      <th>COMP_lag</th>\n",
       "      <th>DV_eletric_lag</th>\n",
       "      <th>Towers_lag</th>\n",
       "      <th>MPG_lag</th>\n",
       "      <th>LPS_lag</th>\n",
       "      <th>Pressure_switch_lag</th>\n",
       "      <th>Oil_level_lag</th>\n",
       "      <th>Caudal_impulses_lag</th>\n",
       "    </tr>\n",
       "    <tr>\n",
       "      <th>timestamp</th>\n",
       "      <th></th>\n",
       "      <th></th>\n",
       "      <th></th>\n",
       "      <th></th>\n",
       "      <th></th>\n",
       "      <th></th>\n",
       "      <th></th>\n",
       "      <th></th>\n",
       "      <th></th>\n",
       "      <th></th>\n",
       "      <th></th>\n",
       "      <th></th>\n",
       "      <th></th>\n",
       "      <th></th>\n",
       "      <th></th>\n",
       "      <th></th>\n",
       "    </tr>\n",
       "  </thead>\n",
       "  <tbody>\n",
       "    <tr>\n",
       "      <th>2020-02-01 00:00:19</th>\n",
       "      <td>1.0</td>\n",
       "      <td>0.0</td>\n",
       "      <td>1.0</td>\n",
       "      <td>1.0</td>\n",
       "      <td>0.0</td>\n",
       "      <td>1.0</td>\n",
       "      <td>1.0</td>\n",
       "      <td>1.0</td>\n",
       "      <td>1.0</td>\n",
       "      <td>0.0</td>\n",
       "      <td>1.0</td>\n",
       "      <td>1.0</td>\n",
       "      <td>0.0</td>\n",
       "      <td>1.0</td>\n",
       "      <td>1.0</td>\n",
       "      <td>1.0</td>\n",
       "    </tr>\n",
       "    <tr>\n",
       "      <th>2020-02-01 00:00:29</th>\n",
       "      <td>1.0</td>\n",
       "      <td>0.0</td>\n",
       "      <td>1.0</td>\n",
       "      <td>1.0</td>\n",
       "      <td>0.0</td>\n",
       "      <td>1.0</td>\n",
       "      <td>1.0</td>\n",
       "      <td>1.0</td>\n",
       "      <td>1.0</td>\n",
       "      <td>0.0</td>\n",
       "      <td>1.0</td>\n",
       "      <td>1.0</td>\n",
       "      <td>0.0</td>\n",
       "      <td>1.0</td>\n",
       "      <td>1.0</td>\n",
       "      <td>1.0</td>\n",
       "    </tr>\n",
       "    <tr>\n",
       "      <th>2020-02-01 00:00:39</th>\n",
       "      <td>1.0</td>\n",
       "      <td>0.0</td>\n",
       "      <td>1.0</td>\n",
       "      <td>1.0</td>\n",
       "      <td>0.0</td>\n",
       "      <td>1.0</td>\n",
       "      <td>1.0</td>\n",
       "      <td>1.0</td>\n",
       "      <td>1.0</td>\n",
       "      <td>0.0</td>\n",
       "      <td>1.0</td>\n",
       "      <td>1.0</td>\n",
       "      <td>0.0</td>\n",
       "      <td>1.0</td>\n",
       "      <td>1.0</td>\n",
       "      <td>1.0</td>\n",
       "    </tr>\n",
       "    <tr>\n",
       "      <th>2020-02-01 00:00:49</th>\n",
       "      <td>1.0</td>\n",
       "      <td>0.0</td>\n",
       "      <td>1.0</td>\n",
       "      <td>1.0</td>\n",
       "      <td>0.0</td>\n",
       "      <td>1.0</td>\n",
       "      <td>1.0</td>\n",
       "      <td>1.0</td>\n",
       "      <td>1.0</td>\n",
       "      <td>0.0</td>\n",
       "      <td>1.0</td>\n",
       "      <td>1.0</td>\n",
       "      <td>0.0</td>\n",
       "      <td>1.0</td>\n",
       "      <td>1.0</td>\n",
       "      <td>1.0</td>\n",
       "    </tr>\n",
       "    <tr>\n",
       "      <th>2020-02-01 00:00:59</th>\n",
       "      <td>1.0</td>\n",
       "      <td>0.0</td>\n",
       "      <td>1.0</td>\n",
       "      <td>1.0</td>\n",
       "      <td>0.0</td>\n",
       "      <td>1.0</td>\n",
       "      <td>1.0</td>\n",
       "      <td>1.0</td>\n",
       "      <td>1.0</td>\n",
       "      <td>0.0</td>\n",
       "      <td>1.0</td>\n",
       "      <td>1.0</td>\n",
       "      <td>0.0</td>\n",
       "      <td>1.0</td>\n",
       "      <td>1.0</td>\n",
       "      <td>1.0</td>\n",
       "    </tr>\n",
       "  </tbody>\n",
       "</table>\n",
       "</div>"
      ],
      "text/plain": [
       "                     COMP  DV_eletric  Towers  MPG  LPS  Pressure_switch  \\\n",
       "timestamp                                                                  \n",
       "2020-02-01 00:00:19   1.0         0.0     1.0  1.0  0.0              1.0   \n",
       "2020-02-01 00:00:29   1.0         0.0     1.0  1.0  0.0              1.0   \n",
       "2020-02-01 00:00:39   1.0         0.0     1.0  1.0  0.0              1.0   \n",
       "2020-02-01 00:00:49   1.0         0.0     1.0  1.0  0.0              1.0   \n",
       "2020-02-01 00:00:59   1.0         0.0     1.0  1.0  0.0              1.0   \n",
       "\n",
       "                     Oil_level  Caudal_impulses  COMP_lag  DV_eletric_lag  \\\n",
       "timestamp                                                                   \n",
       "2020-02-01 00:00:19        1.0              1.0       1.0             0.0   \n",
       "2020-02-01 00:00:29        1.0              1.0       1.0             0.0   \n",
       "2020-02-01 00:00:39        1.0              1.0       1.0             0.0   \n",
       "2020-02-01 00:00:49        1.0              1.0       1.0             0.0   \n",
       "2020-02-01 00:00:59        1.0              1.0       1.0             0.0   \n",
       "\n",
       "                     Towers_lag  MPG_lag  LPS_lag  Pressure_switch_lag  \\\n",
       "timestamp                                                                \n",
       "2020-02-01 00:00:19         1.0      1.0      0.0                  1.0   \n",
       "2020-02-01 00:00:29         1.0      1.0      0.0                  1.0   \n",
       "2020-02-01 00:00:39         1.0      1.0      0.0                  1.0   \n",
       "2020-02-01 00:00:49         1.0      1.0      0.0                  1.0   \n",
       "2020-02-01 00:00:59         1.0      1.0      0.0                  1.0   \n",
       "\n",
       "                     Oil_level_lag  Caudal_impulses_lag  \n",
       "timestamp                                                \n",
       "2020-02-01 00:00:19            1.0                  1.0  \n",
       "2020-02-01 00:00:29            1.0                  1.0  \n",
       "2020-02-01 00:00:39            1.0                  1.0  \n",
       "2020-02-01 00:00:49            1.0                  1.0  \n",
       "2020-02-01 00:00:59            1.0                  1.0  "
      ]
     },
     "execution_count": 97,
     "metadata": {},
     "output_type": "execute_result"
    }
   ],
   "source": [
    "all_features = {\n",
    "    \"TP2\": dataset[\"TP2\"],\n",
    "    \"TP3\": dataset[\"TP3\"],\n",
    "    \"H1\": dataset[\"H1\"],\n",
    "    \"DV_pressure\": dataset[\"DV_pressure\"],\n",
    "    \"Reservoirs\": dataset[\"Reservoirs\"],\n",
    "    \"Oil_temperature\": dataset[\"Oil_temperature\"],\n",
    "    \"Motor_current\": dataset[\"Motor_current\"],\n",
    "    \n",
    "    \"COMP\": dataset[\"COMP\"].astype(np.uint8),\n",
    "    \"DV_eletric\": dataset[\"DV_eletric\"].astype(np.uint8),\n",
    "    \"Towers\": dataset[\"Towers\"].astype(np.uint8),\n",
    "    \"MPG\": dataset[\"MPG\"].astype(np.uint8),\n",
    "    \"LPS\": dataset[\"LPS\"].astype(np.uint8),\n",
    "    \"Pressure_switch\": dataset[\"Pressure_switch\"].astype(np.uint8),\n",
    "    \"Oil_level\": dataset[\"Oil_level\"].astype(np.uint8),\n",
    "    \"Caudal_impulses\": dataset[\"Caudal_impulses\"].astype(np.uint8),\n",
    "}\n",
    "\n",
    "analog_features = {\n",
    "    \"TP2\": dataset[\"TP2\"].shift(1),\n",
    "    \"TP3\": dataset[\"TP3\"].shift(1),\n",
    "    \"H1\": dataset[\"H1\"].shift(1),\n",
    "    \"DV_pressure\": dataset[\"DV_pressure\"].shift(1),\n",
    "    \"Reservoirs\": dataset[\"Reservoirs\"].shift(1),\n",
    "    \"Oil_temperature\": dataset[\"Oil_temperature\"].shift(1),\n",
    "    \"Motor_current\": dataset[\"Motor_current\"].shift(1),\n",
    "    \"TP2_lag\": dataset[\"TP2\"].shift(2),\n",
    "    \"TP3_lag\": dataset[\"TP3\"].shift(2),\n",
    "    \"H1_lag\": dataset[\"H1\"].shift(2),\n",
    "    \"DV_pressure_lag\": dataset[\"DV_pressure\"].shift(2),\n",
    "    \"Reservoirs_lag\": dataset[\"Reservoirs\"].shift(2),\n",
    "    \"Oil_temperature_lag\": dataset[\"Oil_temperature\"].shift(2),\n",
    "    \"Motor_current_lag\": dataset[\"Motor_current\"].shift(2),\n",
    "    \n",
    "}\n",
    "X = pd.DataFrame(analog_features)[2:]\n",
    "\n",
    "y = dataset[\"anomaly\"].astype(np.uint8)[2:]\n",
    "\n",
    "X.head(5)"
   ]
  },
  {
   "cell_type": "code",
   "execution_count": 98,
   "metadata": {},
   "outputs": [
    {
     "data": {
      "text/plain": [
       "0    0.932825\n",
       "1    0.067175\n",
       "Name: anomaly, dtype: float64"
      ]
     },
     "execution_count": 98,
     "metadata": {},
     "output_type": "execute_result"
    }
   ],
   "source": [
    "from sklearn.model_selection import train_test_split\n",
    "period = X.index.month == 5\n",
    "#period &= X.index.month <=6\n",
    "X_train, X_val, y_train, y_val = train_test_split(\n",
    "    X.loc[period],\n",
    "    y.loc[period],\n",
    "    test_size=1/3, random_state=42\n",
    ")\n",
    "\n",
    "X_train.index.isin(X_val.index).sum()\n",
    "\n",
    "y_val.value_counts(normalize=True)"
   ]
  },
  {
   "cell_type": "markdown",
   "metadata": {},
   "source": [
    "## Addestramento e Validazione\n",
    "(Linee guida: Addestrare e validare due o più modelli di predizione, calcolandone le misure di performance viste nel\n",
    "corso (es. MSE, errore relativo e coefficiente R² per modelli di regressione) e analizzando il modello\n",
    "addestrato (es. coefficienti in una regressione lineare o nodi dei primi livelli di un albero decisionale) per\n",
    "individuare le variabili più o meno rilevanti nella predizione.)"
   ]
  },
  {
   "cell_type": "code",
   "execution_count": 86,
   "metadata": {},
   "outputs": [
    {
     "data": {
      "text/plain": [
       "0.8849913720994143"
      ]
     },
     "execution_count": 86,
     "metadata": {},
     "output_type": "execute_result"
    }
   ],
   "source": [
    "from sklearn.linear_model import LinearRegression\n",
    "\n",
    "model = LinearRegression()\n",
    "model.fit(X_train, y_train)\n",
    "model.score(X_val, y_val)"
   ]
  },
  {
   "cell_type": "code",
   "execution_count": 87,
   "metadata": {},
   "outputs": [
    {
     "data": {
      "text/plain": [
       "array([ 0.07248543, -0.00329017,  0.01886986, ..., -0.00752491,\n",
       "        0.01655524,  0.73064176])"
      ]
     },
     "execution_count": 87,
     "metadata": {},
     "output_type": "execute_result"
    }
   ],
   "source": [
    "model.predict(X_val)"
   ]
  },
  {
   "cell_type": "code",
   "execution_count": 88,
   "metadata": {
    "scrolled": true
   },
   "outputs": [
    {
     "name": "stdout",
     "output_type": "stream",
     "text": [
      "              precision    recall  f1-score   support\n",
      "\n",
      "           0       1.00      0.99      1.00     66169\n",
      "           1       0.93      0.98      0.95      4765\n",
      "\n",
      "    accuracy                           0.99     70934\n",
      "   macro avg       0.96      0.99      0.97     70934\n",
      "weighted avg       0.99      0.99      0.99     70934\n",
      "\n"
     ]
    }
   ],
   "source": [
    "#model.score(mired_X_val, mired_Y_val)\n",
    "#model.predict(mired_X_val).mean()\n",
    "from sklearn.metrics import classification_report\n",
    "prediction = model.predict(X_val)\n",
    "prediction = [0 if i<=0.5 else 1 for i in prediction]\n",
    "print(classification_report(y_val, prediction))"
   ]
  },
  {
   "cell_type": "code",
   "execution_count": 33,
   "metadata": {},
   "outputs": [
    {
     "name": "stderr",
     "output_type": "stream",
     "text": [
      "C:\\Users\\nicco\\anaconda3\\lib\\site-packages\\sklearn\\linear_model\\_sag.py:350: ConvergenceWarning: The max_iter was reached which means the coef_ did not converge\n",
      "  warnings.warn(\n"
     ]
    },
    {
     "data": {
      "text/plain": [
       "0.9941917839118053"
      ]
     },
     "execution_count": 33,
     "metadata": {},
     "output_type": "execute_result"
    }
   ],
   "source": [
    "from sklearn.linear_model import LogisticRegression\n",
    "model = LogisticRegression(solver=\"saga\", random_state=42)\n",
    "model.fit(X_train, y_train)\n",
    "model.score(X_val, y_val)"
   ]
  },
  {
   "cell_type": "code",
   "execution_count": 36,
   "metadata": {},
   "outputs": [
    {
     "data": {
      "text/plain": [
       "0.6487325634346177"
      ]
     },
     "execution_count": 36,
     "metadata": {},
     "output_type": "execute_result"
    }
   ],
   "source": [
    "from sklearn.linear_model import Ridge\n",
    "from sklearn.preprocessing import PolynomialFeatures\n",
    "from sklearn.pipeline import Pipeline\n",
    "\n",
    "model = Pipeline([\n",
    "    (\"poly\",    PolynomialFeatures(degree=3, include_bias=False) ),\n",
    "    (\"regr\", Ridge(alpha=1.0) )\n",
    "])\n",
    "\n",
    "model.fit(X_train, y_train)\n",
    "model.score(X_val, y_val)"
   ]
  },
  {
   "cell_type": "code",
   "execution_count": 39,
   "metadata": {},
   "outputs": [
    {
     "name": "stdout",
     "output_type": "stream",
     "text": [
      "              precision    recall  f1-score   support\n",
      "\n",
      "           0       1.00      1.00      1.00     66169\n",
      "           1       0.96      0.98      0.97      4765\n",
      "\n",
      "    accuracy                           1.00     70934\n",
      "   macro avg       0.98      0.99      0.98     70934\n",
      "weighted avg       1.00      1.00      1.00     70934\n",
      "\n"
     ]
    }
   ],
   "source": [
    "from sklearn.metrics import classification_report\n",
    "prediction = model.predict(X_val)\n",
    "prediction = [0 if i<=0.5 else 1 for i in prediction]\n",
    "print(classification_report(y_val, prediction))"
   ]
  },
  {
   "cell_type": "code",
   "execution_count": 40,
   "metadata": {
    "scrolled": true
   },
   "outputs": [
    {
     "name": "stderr",
     "output_type": "stream",
     "text": [
      "C:\\Users\\nicco\\anaconda3\\lib\\site-packages\\sklearn\\linear_model\\_sag.py:350: ConvergenceWarning: The max_iter was reached which means the coef_ did not converge\n",
      "  warnings.warn(\n"
     ]
    },
    {
     "name": "stdout",
     "output_type": "stream",
     "text": [
      "Non Regolarizzato: 0.9941917839118053\n"
     ]
    },
    {
     "name": "stderr",
     "output_type": "stream",
     "text": [
      "C:\\Users\\nicco\\anaconda3\\lib\\site-packages\\sklearn\\linear_model\\_sag.py:350: ConvergenceWarning: The max_iter was reached which means the coef_ did not converge\n",
      "  warnings.warn(\n"
     ]
    },
    {
     "name": "stdout",
     "output_type": "stream",
     "text": [
      "Regolarizzato: 0.9942763695829926\n",
      "Elasticnet: 0.9941917839118053\n"
     ]
    },
    {
     "name": "stderr",
     "output_type": "stream",
     "text": [
      "C:\\Users\\nicco\\anaconda3\\lib\\site-packages\\sklearn\\linear_model\\_sag.py:350: ConvergenceWarning: The max_iter was reached which means the coef_ did not converge\n",
      "  warnings.warn(\n"
     ]
    }
   ],
   "source": [
    "from sklearn.linear_model import LogisticRegression\n",
    "model = LogisticRegression(solver=\"saga\", random_state=42)\n",
    "model.fit(X_train, y_train)\n",
    "print(\"Non Regolarizzato:\",model.score(X_val,y_val))\n",
    "\n",
    "# regolarizzato\n",
    "model = LogisticRegression(solver=\"saga\", random_state=42, penalty=\"l1\", C=0.01)\n",
    "model.fit(X_train, y_train);\n",
    "print(\"Regolarizzato:\",model.score(X_val,y_val))\n",
    "\n",
    "#elasticnet\n",
    "model = LogisticRegression(\n",
    "    solver=\"saga\", random_state=42,\n",
    "    penalty=\"elasticnet\", C=0.1, l1_ratio=0.2)\n",
    "model.fit(X_train, y_train);\n",
    "print(\"Elasticnet:\",model.score(X_val,y_val))"
   ]
  },
  {
   "cell_type": "code",
   "execution_count": 41,
   "metadata": {},
   "outputs": [
    {
     "data": {
      "text/plain": [
       "0.9923590943694138"
      ]
     },
     "execution_count": 41,
     "metadata": {},
     "output_type": "execute_result"
    }
   ],
   "source": [
    "from sklearn.tree import DecisionTreeClassifier\n",
    "model = DecisionTreeClassifier(max_depth=1)\n",
    "model.fit(X_train, y_train);\n",
    "model.score(X_val,y_val)"
   ]
  },
  {
   "cell_type": "code",
   "execution_count": 42,
   "metadata": {},
   "outputs": [
    {
     "name": "stdout",
     "output_type": "stream",
     "text": [
      "              precision    recall  f1-score   support\n",
      "\n",
      "           0       1.00      0.99      1.00     66169\n",
      "           1       0.92      0.97      0.94      4765\n",
      "\n",
      "    accuracy                           0.99     70934\n",
      "   macro avg       0.96      0.98      0.97     70934\n",
      "weighted avg       0.99      0.99      0.99     70934\n",
      "\n"
     ]
    }
   ],
   "source": [
    "prediction = model.predict(X_val).astype(np.uint8)\n",
    "print(classification_report(y_val, prediction))\n",
    "#print(y_val.dtype, prediction.dtype)"
   ]
  },
  {
   "cell_type": "code",
   "execution_count": 99,
   "metadata": {},
   "outputs": [
    {
     "data": {
      "text/plain": [
       "0.9328248794654186"
      ]
     },
     "execution_count": 99,
     "metadata": {},
     "output_type": "execute_result"
    }
   ],
   "source": [
    "import xgboost\n",
    "from xgboost import XGBClassifier \n",
    "model = XGBClassifier(objective=\"reg:squarederror\", learning_rate=0.0157, reg_lambda= 0.008, reg_alpha=0.0001, n_estimators=625) \n",
    "model.fit(X_train, y_train)\n",
    "model.score(X_val, y_val)"
   ]
  },
  {
   "cell_type": "code",
   "execution_count": 100,
   "metadata": {},
   "outputs": [
    {
     "name": "stdout",
     "output_type": "stream",
     "text": [
      "              precision    recall  f1-score   support\n",
      "\n",
      "           0       0.93      1.00      0.97     66169\n",
      "           1       0.00      0.00      0.00      4765\n",
      "\n",
      "    accuracy                           0.93     70934\n",
      "   macro avg       0.47      0.50      0.48     70934\n",
      "weighted avg       0.87      0.93      0.90     70934\n",
      "\n"
     ]
    },
    {
     "name": "stderr",
     "output_type": "stream",
     "text": [
      "C:\\Users\\nicco\\anaconda3\\lib\\site-packages\\sklearn\\metrics\\_classification.py:1344: UndefinedMetricWarning: Precision and F-score are ill-defined and being set to 0.0 in labels with no predicted samples. Use `zero_division` parameter to control this behavior.\n",
      "  _warn_prf(average, modifier, msg_start, len(result))\n",
      "C:\\Users\\nicco\\anaconda3\\lib\\site-packages\\sklearn\\metrics\\_classification.py:1344: UndefinedMetricWarning: Precision and F-score are ill-defined and being set to 0.0 in labels with no predicted samples. Use `zero_division` parameter to control this behavior.\n",
      "  _warn_prf(average, modifier, msg_start, len(result))\n",
      "C:\\Users\\nicco\\anaconda3\\lib\\site-packages\\sklearn\\metrics\\_classification.py:1344: UndefinedMetricWarning: Precision and F-score are ill-defined and being set to 0.0 in labels with no predicted samples. Use `zero_division` parameter to control this behavior.\n",
      "  _warn_prf(average, modifier, msg_start, len(result))\n"
     ]
    }
   ],
   "source": [
    "prediction = model.predict(X_val)\n",
    "print(classification_report(y_val, prediction))"
   ]
  },
  {
   "cell_type": "code",
   "execution_count": 103,
   "metadata": {},
   "outputs": [
    {
     "data": {
      "text/plain": [
       "timestamp\n",
       "2020-04-12 11:49:02    0\n",
       "2020-04-12 11:49:12    0\n",
       "2020-04-12 11:49:22    0\n",
       "2020-04-12 11:49:32    0\n",
       "2020-04-12 11:49:42    0\n",
       "2020-04-12 11:49:51    0\n",
       "2020-04-12 11:50:01    1\n",
       "2020-04-12 11:50:11    1\n",
       "2020-04-12 11:50:21    1\n",
       "2020-04-12 11:50:31    1\n",
       "2020-04-12 11:50:41    1\n",
       "2020-04-12 11:50:51    1\n",
       "Name: anomaly, dtype: uint8"
      ]
     },
     "execution_count": 103,
     "metadata": {},
     "output_type": "execute_result"
    }
   ],
   "source": [
    "failure_start_1 = (X.index > datetime.datetime(2020, 4, 12, 11, 49, 0)) & (X.index <= datetime.datetime(2020, 4, 12, 11, 51, 0))\n",
    "failure_start_2 = (X.index > datetime.datetime(2020, 5, 18, 4, 59, 0)) & (X.index <= datetime.datetime(2020, 5, 18, 5, 1, 0))\n",
    "y[failure_start_1]"
   ]
  },
  {
   "cell_type": "code",
   "execution_count": 104,
   "metadata": {
    "scrolled": true
   },
   "outputs": [
    {
     "name": "stdout",
     "output_type": "stream",
     "text": [
      "DatetimeIndex(['2020-04-12 11:49:02', '2020-04-12 11:49:12',\n",
      "               '2020-04-12 11:49:22', '2020-04-12 11:49:32',\n",
      "               '2020-04-12 11:49:42', '2020-04-12 11:49:51',\n",
      "               '2020-04-12 11:50:01', '2020-04-12 11:50:11',\n",
      "               '2020-04-12 11:50:21', '2020-04-12 11:50:31',\n",
      "               '2020-04-12 11:50:41', '2020-04-12 11:50:51'],\n",
      "              dtype='datetime64[ns]', name='timestamp', freq=None)\n"
     ]
    },
    {
     "data": {
      "text/plain": [
       "array([0, 0, 0, 0, 0, 0, 0, 0, 0, 0, 0, 0])"
      ]
     },
     "execution_count": 104,
     "metadata": {},
     "output_type": "execute_result"
    }
   ],
   "source": [
    "print(X[failure_start_1].index)\n",
    "model.predict(X[failure_start_1])"
   ]
  },
  {
   "cell_type": "markdown",
   "metadata": {},
   "source": [
    "## Ricerca Iperparametri\n",
    "(Linee guida: Scegliere uno o più modelli di base (es. regressione ridge) ed eseguire una ricerca degli iperparametri\n",
    "esaustiva (grid search) o a campione (randomized search) che massimizzi le performance del modello.)"
   ]
  },
  {
   "cell_type": "markdown",
   "metadata": {},
   "source": []
  }
 ],
 "metadata": {
  "kernelspec": {
   "display_name": "Python 3 (ipykernel)",
   "language": "python",
   "name": "python3"
  },
  "language_info": {
   "codemirror_mode": {
    "name": "ipython",
    "version": 3
   },
   "file_extension": ".py",
   "mimetype": "text/x-python",
   "name": "python",
   "nbconvert_exporter": "python",
   "pygments_lexer": "ipython3",
   "version": "3.10.9"
  },
  "vscode": {
   "interpreter": {
    "hash": "4ef44cada844c12efb0827e121eaffd4859fdd48fa435d196c06cb66bb3e69eb"
   }
  }
 },
 "nbformat": 4,
 "nbformat_minor": 2
}
