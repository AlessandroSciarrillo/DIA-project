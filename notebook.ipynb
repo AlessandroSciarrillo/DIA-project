{
 "cells": [
  {
   "attachments": {},
   "cell_type": "markdown",
   "metadata": {},
   "source": [
    "# Progetto Applicazioni Data Intensive 2023\n",
    "#### Autori: Alessandro Sciarrillo e Niccolò Mussoni"
   ]
  },
  {
   "cell_type": "code",
   "execution_count": 106,
   "metadata": {},
   "outputs": [],
   "source": [
    "import datetime\n",
    "import numpy as np\n",
    "import pandas as pd\n",
    "import matplotlib.pyplot as plt\n",
    "import sklearn\n",
    "\n",
    "# import necessari\n",
    "from sklearn.linear_model import LinearRegression, Ridge\n",
    "from sklearn.preprocessing import PolynomialFeatures, StandardScaler\n",
    "from sklearn.pipeline import Pipeline"
   ]
  },
  {
   "cell_type": "code",
   "execution_count": 107,
   "metadata": {},
   "outputs": [],
   "source": [
    "#URL = \"https://www.kaggle.com/datasets/teejmahal20/airline-passenger-satisfaction\"\n",
    "#data_test = pd.read_csv(\"test.csv\", sep=\",\")\n",
    "#data_train = pd.read_csv(\"train.csv\", sep=\",\")\n",
    "#frames = [data_test, data_train]\n",
    "#ds = pd.concat(frames)\n",
    "\n",
    "dataset = pd.read_csv(\"../../Downloads/MetroPT3(AirCompressor).csv\", sep=\",\", index_col=\"timestamp\", parse_dates=[\"timestamp\"])"
   ]
  },
  {
   "cell_type": "code",
   "execution_count": 108,
   "metadata": {},
   "outputs": [
    {
     "data": {
      "text/html": [
       "<div>\n",
       "<style scoped>\n",
       "    .dataframe tbody tr th:only-of-type {\n",
       "        vertical-align: middle;\n",
       "    }\n",
       "\n",
       "    .dataframe tbody tr th {\n",
       "        vertical-align: top;\n",
       "    }\n",
       "\n",
       "    .dataframe thead th {\n",
       "        text-align: right;\n",
       "    }\n",
       "</style>\n",
       "<table border=\"1\" class=\"dataframe\">\n",
       "  <thead>\n",
       "    <tr style=\"text-align: right;\">\n",
       "      <th></th>\n",
       "      <th>Unnamed: 0</th>\n",
       "      <th>TP2</th>\n",
       "      <th>TP3</th>\n",
       "      <th>H1</th>\n",
       "      <th>DV_pressure</th>\n",
       "      <th>Reservoirs</th>\n",
       "      <th>Oil_temperature</th>\n",
       "      <th>Motor_current</th>\n",
       "      <th>COMP</th>\n",
       "      <th>DV_eletric</th>\n",
       "      <th>Towers</th>\n",
       "      <th>MPG</th>\n",
       "      <th>LPS</th>\n",
       "      <th>Pressure_switch</th>\n",
       "      <th>Oil_level</th>\n",
       "      <th>Caudal_impulses</th>\n",
       "    </tr>\n",
       "    <tr>\n",
       "      <th>timestamp</th>\n",
       "      <th></th>\n",
       "      <th></th>\n",
       "      <th></th>\n",
       "      <th></th>\n",
       "      <th></th>\n",
       "      <th></th>\n",
       "      <th></th>\n",
       "      <th></th>\n",
       "      <th></th>\n",
       "      <th></th>\n",
       "      <th></th>\n",
       "      <th></th>\n",
       "      <th></th>\n",
       "      <th></th>\n",
       "      <th></th>\n",
       "      <th></th>\n",
       "    </tr>\n",
       "  </thead>\n",
       "  <tbody>\n",
       "    <tr>\n",
       "      <th>2020-09-01 03:59:40</th>\n",
       "      <td>15169460</td>\n",
       "      <td>-0.012</td>\n",
       "      <td>8.876</td>\n",
       "      <td>8.864</td>\n",
       "      <td>-0.022</td>\n",
       "      <td>8.878</td>\n",
       "      <td>59.550</td>\n",
       "      <td>0.0450</td>\n",
       "      <td>1.0</td>\n",
       "      <td>0.0</td>\n",
       "      <td>1.0</td>\n",
       "      <td>1.0</td>\n",
       "      <td>0.0</td>\n",
       "      <td>1.0</td>\n",
       "      <td>1.0</td>\n",
       "      <td>1.0</td>\n",
       "    </tr>\n",
       "    <tr>\n",
       "      <th>2020-09-01 03:59:50</th>\n",
       "      <td>15169470</td>\n",
       "      <td>-0.014</td>\n",
       "      <td>8.860</td>\n",
       "      <td>8.848</td>\n",
       "      <td>-0.022</td>\n",
       "      <td>8.864</td>\n",
       "      <td>59.475</td>\n",
       "      <td>0.0425</td>\n",
       "      <td>1.0</td>\n",
       "      <td>0.0</td>\n",
       "      <td>1.0</td>\n",
       "      <td>1.0</td>\n",
       "      <td>0.0</td>\n",
       "      <td>1.0</td>\n",
       "      <td>1.0</td>\n",
       "      <td>1.0</td>\n",
       "    </tr>\n",
       "  </tbody>\n",
       "</table>\n",
       "</div>"
      ],
      "text/plain": [
       "                     Unnamed: 0    TP2    TP3     H1  DV_pressure  Reservoirs  \\\n",
       "timestamp                                                                       \n",
       "2020-09-01 03:59:40    15169460 -0.012  8.876  8.864       -0.022       8.878   \n",
       "2020-09-01 03:59:50    15169470 -0.014  8.860  8.848       -0.022       8.864   \n",
       "\n",
       "                     Oil_temperature  Motor_current  COMP  DV_eletric  Towers  \\\n",
       "timestamp                                                                       \n",
       "2020-09-01 03:59:40           59.550         0.0450   1.0         0.0     1.0   \n",
       "2020-09-01 03:59:50           59.475         0.0425   1.0         0.0     1.0   \n",
       "\n",
       "                     MPG  LPS  Pressure_switch  Oil_level  Caudal_impulses  \n",
       "timestamp                                                                   \n",
       "2020-09-01 03:59:40  1.0  0.0              1.0        1.0              1.0  \n",
       "2020-09-01 03:59:50  1.0  0.0              1.0        1.0              1.0  "
      ]
     },
     "execution_count": 108,
     "metadata": {},
     "output_type": "execute_result"
    }
   ],
   "source": [
    "# dall'1/02/2020 al 1/09/2020\n",
    "dataset.head(2)\n",
    "dataset.tail(2)"
   ]
  },
  {
   "cell_type": "code",
   "execution_count": 130,
   "metadata": {},
   "outputs": [
    {
     "data": {
      "text/html": [
       "<div>\n",
       "<style scoped>\n",
       "    .dataframe tbody tr th:only-of-type {\n",
       "        vertical-align: middle;\n",
       "    }\n",
       "\n",
       "    .dataframe tbody tr th {\n",
       "        vertical-align: top;\n",
       "    }\n",
       "\n",
       "    .dataframe thead th {\n",
       "        text-align: right;\n",
       "    }\n",
       "</style>\n",
       "<table border=\"1\" class=\"dataframe\">\n",
       "  <thead>\n",
       "    <tr style=\"text-align: right;\">\n",
       "      <th></th>\n",
       "      <th>H1</th>\n",
       "    </tr>\n",
       "    <tr>\n",
       "      <th>timestamp</th>\n",
       "      <th></th>\n",
       "    </tr>\n",
       "  </thead>\n",
       "  <tbody>\n",
       "    <tr>\n",
       "      <th>2020-04-12 00:00:01</th>\n",
       "      <td>8.808</td>\n",
       "    </tr>\n",
       "    <tr>\n",
       "      <th>2020-04-12 00:00:11</th>\n",
       "      <td>8.794</td>\n",
       "    </tr>\n",
       "    <tr>\n",
       "      <th>2020-04-12 00:00:21</th>\n",
       "      <td>8.782</td>\n",
       "    </tr>\n",
       "    <tr>\n",
       "      <th>2020-04-12 00:00:31</th>\n",
       "      <td>8.768</td>\n",
       "    </tr>\n",
       "    <tr>\n",
       "      <th>2020-04-12 00:00:40</th>\n",
       "      <td>8.756</td>\n",
       "    </tr>\n",
       "  </tbody>\n",
       "</table>\n",
       "</div>"
      ],
      "text/plain": [
       "                        H1\n",
       "timestamp                 \n",
       "2020-04-12 00:00:01  8.808\n",
       "2020-04-12 00:00:11  8.794\n",
       "2020-04-12 00:00:21  8.782\n",
       "2020-04-12 00:00:31  8.768\n",
       "2020-04-12 00:00:40  8.756"
      ]
     },
     "execution_count": 130,
     "metadata": {},
     "output_type": "execute_result"
    }
   ],
   "source": [
    "# x=H1  y=COMP\n",
    "\n",
    "def split_crashDay(X, y):\n",
    "    #is_train = X.index.year < 2005\n",
    "    #is_train = X.index.month == 12 #and X.index.day == 4 and X.index.year == 2020\n",
    "    is_train = X.index.date != datetime.date(2020, 4, 12)\n",
    "    #is_train = ~is_train\n",
    "    \n",
    "    X_train = X.loc[is_train]\n",
    "    y_train = y.loc[is_train]\n",
    "    X_val = X.loc[~is_train]\n",
    "    y_val = y.loc[~is_train]\n",
    "    return X_train, X_val, y_train, y_val\n",
    "\n",
    "#timestamp = dataset[\"timestamp\"]\n",
    "h1 = dataset[\"H1\"]\n",
    "comp = dataset[\"COMP\"]\n",
    "\n",
    "features = {\"H1\": h1}\n",
    "X = pd.DataFrame(features)\n",
    "y = comp\n",
    "\n",
    "X_train, X_val, y_train, y_val = split_crashDay(X, y)\n",
    "\n",
    "X_val.head(5)"
   ]
  },
  {
   "cell_type": "code",
   "execution_count": 131,
   "metadata": {},
   "outputs": [
    {
     "name": "stdout",
     "output_type": "stream",
     "text": [
      "7125\n"
     ]
    },
    {
     "data": {
      "text/plain": [
       "4147.020553299068"
      ]
     },
     "execution_count": 131,
     "metadata": {},
     "output_type": "execute_result"
    }
   ],
   "source": [
    "# Modello casuale\n",
    "np.random.seed(42)\n",
    "random_preds = np.random.normal(\n",
    "    y_train.mean(),   # centro (media), circa 0\n",
    "    y_train.std(),    # scala (dev. standard)\n",
    "    len(y_val)        # numero di campioni\n",
    ")\n",
    "\n",
    "print(len(y_val))\n",
    "(random_preds-y_val).pow(2).sum()"
   ]
  },
  {
   "cell_type": "code",
   "execution_count": 132,
   "metadata": {},
   "outputs": [
    {
     "data": {
      "text/plain": [
       "0.9924892105292286"
      ]
     },
     "execution_count": 132,
     "metadata": {},
     "output_type": "execute_result"
    }
   ],
   "source": [
    "model = LinearRegression()\n",
    "model.fit(X_train, y_train)\n",
    "model.score(X_val, y_val)"
   ]
  },
  {
   "cell_type": "code",
   "execution_count": 133,
   "metadata": {},
   "outputs": [
    {
     "data": {
      "text/plain": [
       "12.344381489432465"
      ]
     },
     "execution_count": 133,
     "metadata": {},
     "output_type": "execute_result"
    }
   ],
   "source": [
    "predicts = model.predict(X_val)\n",
    "(predicts-y_val).pow(2).sum()"
   ]
  },
  {
   "cell_type": "code",
   "execution_count": 134,
   "metadata": {},
   "outputs": [
    {
     "data": {
      "text/html": [
       "<style>#sk-container-id-18 {color: black;background-color: white;}#sk-container-id-18 pre{padding: 0;}#sk-container-id-18 div.sk-toggleable {background-color: white;}#sk-container-id-18 label.sk-toggleable__label {cursor: pointer;display: block;width: 100%;margin-bottom: 0;padding: 0.3em;box-sizing: border-box;text-align: center;}#sk-container-id-18 label.sk-toggleable__label-arrow:before {content: \"▸\";float: left;margin-right: 0.25em;color: #696969;}#sk-container-id-18 label.sk-toggleable__label-arrow:hover:before {color: black;}#sk-container-id-18 div.sk-estimator:hover label.sk-toggleable__label-arrow:before {color: black;}#sk-container-id-18 div.sk-toggleable__content {max-height: 0;max-width: 0;overflow: hidden;text-align: left;background-color: #f0f8ff;}#sk-container-id-18 div.sk-toggleable__content pre {margin: 0.2em;color: black;border-radius: 0.25em;background-color: #f0f8ff;}#sk-container-id-18 input.sk-toggleable__control:checked~div.sk-toggleable__content {max-height: 200px;max-width: 100%;overflow: auto;}#sk-container-id-18 input.sk-toggleable__control:checked~label.sk-toggleable__label-arrow:before {content: \"▾\";}#sk-container-id-18 div.sk-estimator input.sk-toggleable__control:checked~label.sk-toggleable__label {background-color: #d4ebff;}#sk-container-id-18 div.sk-label input.sk-toggleable__control:checked~label.sk-toggleable__label {background-color: #d4ebff;}#sk-container-id-18 input.sk-hidden--visually {border: 0;clip: rect(1px 1px 1px 1px);clip: rect(1px, 1px, 1px, 1px);height: 1px;margin: -1px;overflow: hidden;padding: 0;position: absolute;width: 1px;}#sk-container-id-18 div.sk-estimator {font-family: monospace;background-color: #f0f8ff;border: 1px dotted black;border-radius: 0.25em;box-sizing: border-box;margin-bottom: 0.5em;}#sk-container-id-18 div.sk-estimator:hover {background-color: #d4ebff;}#sk-container-id-18 div.sk-parallel-item::after {content: \"\";width: 100%;border-bottom: 1px solid gray;flex-grow: 1;}#sk-container-id-18 div.sk-label:hover label.sk-toggleable__label {background-color: #d4ebff;}#sk-container-id-18 div.sk-serial::before {content: \"\";position: absolute;border-left: 1px solid gray;box-sizing: border-box;top: 0;bottom: 0;left: 50%;z-index: 0;}#sk-container-id-18 div.sk-serial {display: flex;flex-direction: column;align-items: center;background-color: white;padding-right: 0.2em;padding-left: 0.2em;position: relative;}#sk-container-id-18 div.sk-item {position: relative;z-index: 1;}#sk-container-id-18 div.sk-parallel {display: flex;align-items: stretch;justify-content: center;background-color: white;position: relative;}#sk-container-id-18 div.sk-item::before, #sk-container-id-18 div.sk-parallel-item::before {content: \"\";position: absolute;border-left: 1px solid gray;box-sizing: border-box;top: 0;bottom: 0;left: 50%;z-index: -1;}#sk-container-id-18 div.sk-parallel-item {display: flex;flex-direction: column;z-index: 1;position: relative;background-color: white;}#sk-container-id-18 div.sk-parallel-item:first-child::after {align-self: flex-end;width: 50%;}#sk-container-id-18 div.sk-parallel-item:last-child::after {align-self: flex-start;width: 50%;}#sk-container-id-18 div.sk-parallel-item:only-child::after {width: 0;}#sk-container-id-18 div.sk-dashed-wrapped {border: 1px dashed gray;margin: 0 0.4em 0.5em 0.4em;box-sizing: border-box;padding-bottom: 0.4em;background-color: white;}#sk-container-id-18 div.sk-label label {font-family: monospace;font-weight: bold;display: inline-block;line-height: 1.2em;}#sk-container-id-18 div.sk-label-container {text-align: center;}#sk-container-id-18 div.sk-container {/* jupyter's `normalize.less` sets `[hidden] { display: none; }` but bootstrap.min.css set `[hidden] { display: none !important; }` so we also need the `!important` here to be able to override the default hidden behavior on the sphinx rendered scikit-learn.org. See: https://github.com/scikit-learn/scikit-learn/issues/21755 */display: inline-block !important;position: relative;}#sk-container-id-18 div.sk-text-repr-fallback {display: none;}</style><div id=\"sk-container-id-18\" class=\"sk-top-container\"><div class=\"sk-text-repr-fallback\"><pre>Pipeline(steps=[(&#x27;poly&#x27;, PolynomialFeatures(degree=10, include_bias=False)),\n",
       "                (&#x27;regr&#x27;, Ridge())])</pre><b>In a Jupyter environment, please rerun this cell to show the HTML representation or trust the notebook. <br />On GitHub, the HTML representation is unable to render, please try loading this page with nbviewer.org.</b></div><div class=\"sk-container\" hidden><div class=\"sk-item sk-dashed-wrapped\"><div class=\"sk-label-container\"><div class=\"sk-label sk-toggleable\"><input class=\"sk-toggleable__control sk-hidden--visually\" id=\"sk-estimator-id-57\" type=\"checkbox\" ><label for=\"sk-estimator-id-57\" class=\"sk-toggleable__label sk-toggleable__label-arrow\">Pipeline</label><div class=\"sk-toggleable__content\"><pre>Pipeline(steps=[(&#x27;poly&#x27;, PolynomialFeatures(degree=10, include_bias=False)),\n",
       "                (&#x27;regr&#x27;, Ridge())])</pre></div></div></div><div class=\"sk-serial\"><div class=\"sk-item\"><div class=\"sk-estimator sk-toggleable\"><input class=\"sk-toggleable__control sk-hidden--visually\" id=\"sk-estimator-id-58\" type=\"checkbox\" ><label for=\"sk-estimator-id-58\" class=\"sk-toggleable__label sk-toggleable__label-arrow\">PolynomialFeatures</label><div class=\"sk-toggleable__content\"><pre>PolynomialFeatures(degree=10, include_bias=False)</pre></div></div></div><div class=\"sk-item\"><div class=\"sk-estimator sk-toggleable\"><input class=\"sk-toggleable__control sk-hidden--visually\" id=\"sk-estimator-id-59\" type=\"checkbox\" ><label for=\"sk-estimator-id-59\" class=\"sk-toggleable__label sk-toggleable__label-arrow\">Ridge</label><div class=\"sk-toggleable__content\"><pre>Ridge()</pre></div></div></div></div></div></div></div>"
      ],
      "text/plain": [
       "Pipeline(steps=[('poly', PolynomialFeatures(degree=10, include_bias=False)),\n",
       "                ('regr', Ridge())])"
      ]
     },
     "execution_count": 134,
     "metadata": {},
     "output_type": "execute_result"
    }
   ],
   "source": [
    "model = Pipeline([\n",
    "    (\"poly\",    PolynomialFeatures(degree=10, include_bias=False) ),\n",
    "    (\"regr\", Ridge(alpha=1.0) )\n",
    "])\n",
    "\n",
    "model.fit(X_train, y_train)\n"
   ]
  },
  {
   "cell_type": "code",
   "execution_count": 135,
   "metadata": {},
   "outputs": [
    {
     "data": {
      "text/plain": [
       "0.9996506716113364"
      ]
     },
     "execution_count": 135,
     "metadata": {},
     "output_type": "execute_result"
    }
   ],
   "source": [
    "model.score(X_val, y_val)"
   ]
  },
  {
   "cell_type": "code",
   "execution_count": 136,
   "metadata": {},
   "outputs": [
    {
     "data": {
      "text/plain": [
       "0.5741397640733581"
      ]
     },
     "execution_count": 136,
     "metadata": {},
     "output_type": "execute_result"
    }
   ],
   "source": [
    "predicts = model.predict(X_val)\n",
    "(predicts-y_val).pow(2).sum()"
   ]
  },
  {
   "cell_type": "code",
   "execution_count": 137,
   "metadata": {},
   "outputs": [
    {
     "data": {
      "text/html": [
       "<style>#sk-container-id-19 {color: black;background-color: white;}#sk-container-id-19 pre{padding: 0;}#sk-container-id-19 div.sk-toggleable {background-color: white;}#sk-container-id-19 label.sk-toggleable__label {cursor: pointer;display: block;width: 100%;margin-bottom: 0;padding: 0.3em;box-sizing: border-box;text-align: center;}#sk-container-id-19 label.sk-toggleable__label-arrow:before {content: \"▸\";float: left;margin-right: 0.25em;color: #696969;}#sk-container-id-19 label.sk-toggleable__label-arrow:hover:before {color: black;}#sk-container-id-19 div.sk-estimator:hover label.sk-toggleable__label-arrow:before {color: black;}#sk-container-id-19 div.sk-toggleable__content {max-height: 0;max-width: 0;overflow: hidden;text-align: left;background-color: #f0f8ff;}#sk-container-id-19 div.sk-toggleable__content pre {margin: 0.2em;color: black;border-radius: 0.25em;background-color: #f0f8ff;}#sk-container-id-19 input.sk-toggleable__control:checked~div.sk-toggleable__content {max-height: 200px;max-width: 100%;overflow: auto;}#sk-container-id-19 input.sk-toggleable__control:checked~label.sk-toggleable__label-arrow:before {content: \"▾\";}#sk-container-id-19 div.sk-estimator input.sk-toggleable__control:checked~label.sk-toggleable__label {background-color: #d4ebff;}#sk-container-id-19 div.sk-label input.sk-toggleable__control:checked~label.sk-toggleable__label {background-color: #d4ebff;}#sk-container-id-19 input.sk-hidden--visually {border: 0;clip: rect(1px 1px 1px 1px);clip: rect(1px, 1px, 1px, 1px);height: 1px;margin: -1px;overflow: hidden;padding: 0;position: absolute;width: 1px;}#sk-container-id-19 div.sk-estimator {font-family: monospace;background-color: #f0f8ff;border: 1px dotted black;border-radius: 0.25em;box-sizing: border-box;margin-bottom: 0.5em;}#sk-container-id-19 div.sk-estimator:hover {background-color: #d4ebff;}#sk-container-id-19 div.sk-parallel-item::after {content: \"\";width: 100%;border-bottom: 1px solid gray;flex-grow: 1;}#sk-container-id-19 div.sk-label:hover label.sk-toggleable__label {background-color: #d4ebff;}#sk-container-id-19 div.sk-serial::before {content: \"\";position: absolute;border-left: 1px solid gray;box-sizing: border-box;top: 0;bottom: 0;left: 50%;z-index: 0;}#sk-container-id-19 div.sk-serial {display: flex;flex-direction: column;align-items: center;background-color: white;padding-right: 0.2em;padding-left: 0.2em;position: relative;}#sk-container-id-19 div.sk-item {position: relative;z-index: 1;}#sk-container-id-19 div.sk-parallel {display: flex;align-items: stretch;justify-content: center;background-color: white;position: relative;}#sk-container-id-19 div.sk-item::before, #sk-container-id-19 div.sk-parallel-item::before {content: \"\";position: absolute;border-left: 1px solid gray;box-sizing: border-box;top: 0;bottom: 0;left: 50%;z-index: -1;}#sk-container-id-19 div.sk-parallel-item {display: flex;flex-direction: column;z-index: 1;position: relative;background-color: white;}#sk-container-id-19 div.sk-parallel-item:first-child::after {align-self: flex-end;width: 50%;}#sk-container-id-19 div.sk-parallel-item:last-child::after {align-self: flex-start;width: 50%;}#sk-container-id-19 div.sk-parallel-item:only-child::after {width: 0;}#sk-container-id-19 div.sk-dashed-wrapped {border: 1px dashed gray;margin: 0 0.4em 0.5em 0.4em;box-sizing: border-box;padding-bottom: 0.4em;background-color: white;}#sk-container-id-19 div.sk-label label {font-family: monospace;font-weight: bold;display: inline-block;line-height: 1.2em;}#sk-container-id-19 div.sk-label-container {text-align: center;}#sk-container-id-19 div.sk-container {/* jupyter's `normalize.less` sets `[hidden] { display: none; }` but bootstrap.min.css set `[hidden] { display: none !important; }` so we also need the `!important` here to be able to override the default hidden behavior on the sphinx rendered scikit-learn.org. See: https://github.com/scikit-learn/scikit-learn/issues/21755 */display: inline-block !important;position: relative;}#sk-container-id-19 div.sk-text-repr-fallback {display: none;}</style><div id=\"sk-container-id-19\" class=\"sk-top-container\"><div class=\"sk-text-repr-fallback\"><pre>Pipeline(steps=[(&#x27;poly&#x27;, PolynomialFeatures(degree=3, include_bias=False)),\n",
       "                (&#x27;norm&#x27;, StandardScaler()), (&#x27;regr&#x27;, LinearRegression())])</pre><b>In a Jupyter environment, please rerun this cell to show the HTML representation or trust the notebook. <br />On GitHub, the HTML representation is unable to render, please try loading this page with nbviewer.org.</b></div><div class=\"sk-container\" hidden><div class=\"sk-item sk-dashed-wrapped\"><div class=\"sk-label-container\"><div class=\"sk-label sk-toggleable\"><input class=\"sk-toggleable__control sk-hidden--visually\" id=\"sk-estimator-id-60\" type=\"checkbox\" ><label for=\"sk-estimator-id-60\" class=\"sk-toggleable__label sk-toggleable__label-arrow\">Pipeline</label><div class=\"sk-toggleable__content\"><pre>Pipeline(steps=[(&#x27;poly&#x27;, PolynomialFeatures(degree=3, include_bias=False)),\n",
       "                (&#x27;norm&#x27;, StandardScaler()), (&#x27;regr&#x27;, LinearRegression())])</pre></div></div></div><div class=\"sk-serial\"><div class=\"sk-item\"><div class=\"sk-estimator sk-toggleable\"><input class=\"sk-toggleable__control sk-hidden--visually\" id=\"sk-estimator-id-61\" type=\"checkbox\" ><label for=\"sk-estimator-id-61\" class=\"sk-toggleable__label sk-toggleable__label-arrow\">PolynomialFeatures</label><div class=\"sk-toggleable__content\"><pre>PolynomialFeatures(degree=3, include_bias=False)</pre></div></div></div><div class=\"sk-item\"><div class=\"sk-estimator sk-toggleable\"><input class=\"sk-toggleable__control sk-hidden--visually\" id=\"sk-estimator-id-62\" type=\"checkbox\" ><label for=\"sk-estimator-id-62\" class=\"sk-toggleable__label sk-toggleable__label-arrow\">StandardScaler</label><div class=\"sk-toggleable__content\"><pre>StandardScaler()</pre></div></div></div><div class=\"sk-item\"><div class=\"sk-estimator sk-toggleable\"><input class=\"sk-toggleable__control sk-hidden--visually\" id=\"sk-estimator-id-63\" type=\"checkbox\" ><label for=\"sk-estimator-id-63\" class=\"sk-toggleable__label sk-toggleable__label-arrow\">LinearRegression</label><div class=\"sk-toggleable__content\"><pre>LinearRegression()</pre></div></div></div></div></div></div></div>"
      ],
      "text/plain": [
       "Pipeline(steps=[('poly', PolynomialFeatures(degree=3, include_bias=False)),\n",
       "                ('norm', StandardScaler()), ('regr', LinearRegression())])"
      ]
     },
     "execution_count": 137,
     "metadata": {},
     "output_type": "execute_result"
    }
   ],
   "source": [
    "model = Pipeline([\n",
    "    (\"poly\",    PolynomialFeatures(degree=3, include_bias=False) ),\n",
    "    (\"norm\", StandardScaler() ),\n",
    "    (\"regr\", LinearRegression() )\n",
    "])\n",
    "\n",
    "model.fit(X_train, y_train)"
   ]
  },
  {
   "cell_type": "code",
   "execution_count": 138,
   "metadata": {},
   "outputs": [
    {
     "data": {
      "text/plain": [
       "0.9995987224740824"
      ]
     },
     "execution_count": 138,
     "metadata": {},
     "output_type": "execute_result"
    }
   ],
   "source": [
    "model.score(X_val, y_val)"
   ]
  },
  {
   "cell_type": "code",
   "execution_count": 139,
   "metadata": {},
   "outputs": [
    {
     "data": {
      "text/plain": [
       "0.6595209308340878"
      ]
     },
     "execution_count": 139,
     "metadata": {},
     "output_type": "execute_result"
    }
   ],
   "source": [
    "predicts = model.predict(X_val)\n",
    "(predicts-y_val).pow(2).sum()"
   ]
  },
  {
   "attachments": {},
   "cell_type": "markdown",
   "metadata": {},
   "source": [
    "## Contesto e Obbiettivo del modello\n",
    "(Linee guida: Descrivere in modo chiaro il contesto e l’obiettivo del modello di predizione, la fonte e la struttura del\n",
    "dataset utilizzato e le variabili che contiene. Eseguire eventualmente una prima scrematura dei dati,\n",
    "eliminando ad es. variabili palesemente non informative (es. identificatori) o con molti dati nulli.)"
   ]
  },
  {
   "cell_type": "code",
   "execution_count": null,
   "metadata": {},
   "outputs": [],
   "source": []
  },
  {
   "attachments": {},
   "cell_type": "markdown",
   "metadata": {},
   "source": [
    "## Analisi Esplorativa\n",
    "(Linee guida: Eseguire un’analisi esplorativa del dataset, riportando statistiche generali (medie, quartili, valori distinti,\n",
    "indici di correlazione, …) e distribuzioni delle variabili in tabelle e grafici (a torta, istogrammi, a dispersione,\n",
    "…). Commentare adeguatamente i risultati dell’analisi ed utilizzarli eventualmente per eliminare dati non\n",
    "utilizzabili nell’analisi.)"
   ]
  },
  {
   "cell_type": "code",
   "execution_count": 6,
   "metadata": {},
   "outputs": [
    {
     "data": {
      "text/html": [
       "<div>\n",
       "<style scoped>\n",
       "    .dataframe tbody tr th:only-of-type {\n",
       "        vertical-align: middle;\n",
       "    }\n",
       "\n",
       "    .dataframe tbody tr th {\n",
       "        vertical-align: top;\n",
       "    }\n",
       "\n",
       "    .dataframe thead th {\n",
       "        text-align: right;\n",
       "    }\n",
       "</style>\n",
       "<table border=\"1\" class=\"dataframe\">\n",
       "  <thead>\n",
       "    <tr style=\"text-align: right;\">\n",
       "      <th></th>\n",
       "      <th>Unnamed: 0</th>\n",
       "      <th>TP2</th>\n",
       "      <th>TP3</th>\n",
       "      <th>H1</th>\n",
       "      <th>DV_pressure</th>\n",
       "      <th>Reservoirs</th>\n",
       "      <th>Oil_temperature</th>\n",
       "      <th>Motor_current</th>\n",
       "      <th>COMP</th>\n",
       "      <th>DV_eletric</th>\n",
       "      <th>Towers</th>\n",
       "      <th>MPG</th>\n",
       "      <th>LPS</th>\n",
       "      <th>Pressure_switch</th>\n",
       "      <th>Oil_level</th>\n",
       "      <th>Caudal_impulses</th>\n",
       "    </tr>\n",
       "  </thead>\n",
       "  <tbody>\n",
       "    <tr>\n",
       "      <th>count</th>\n",
       "      <td>1.516948e+06</td>\n",
       "      <td>1.516948e+06</td>\n",
       "      <td>1.516948e+06</td>\n",
       "      <td>1.516948e+06</td>\n",
       "      <td>1.516948e+06</td>\n",
       "      <td>1.516948e+06</td>\n",
       "      <td>1.516948e+06</td>\n",
       "      <td>1.516948e+06</td>\n",
       "      <td>1.516948e+06</td>\n",
       "      <td>1.516948e+06</td>\n",
       "      <td>1.516948e+06</td>\n",
       "      <td>1.516948e+06</td>\n",
       "      <td>1.516948e+06</td>\n",
       "      <td>1.516948e+06</td>\n",
       "      <td>1.516948e+06</td>\n",
       "      <td>1.516948e+06</td>\n",
       "    </tr>\n",
       "    <tr>\n",
       "      <th>mean</th>\n",
       "      <td>7.584735e+06</td>\n",
       "      <td>1.367826e+00</td>\n",
       "      <td>8.984611e+00</td>\n",
       "      <td>7.568155e+00</td>\n",
       "      <td>5.595619e-02</td>\n",
       "      <td>8.985233e+00</td>\n",
       "      <td>6.264418e+01</td>\n",
       "      <td>2.050171e+00</td>\n",
       "      <td>8.369568e-01</td>\n",
       "      <td>1.606106e-01</td>\n",
       "      <td>9.198483e-01</td>\n",
       "      <td>8.326640e-01</td>\n",
       "      <td>3.420025e-03</td>\n",
       "      <td>9.914368e-01</td>\n",
       "      <td>9.041556e-01</td>\n",
       "      <td>9.371066e-01</td>\n",
       "    </tr>\n",
       "    <tr>\n",
       "      <th>std</th>\n",
       "      <td>4.379053e+06</td>\n",
       "      <td>3.250930e+00</td>\n",
       "      <td>6.390951e-01</td>\n",
       "      <td>3.333200e+00</td>\n",
       "      <td>3.824015e-01</td>\n",
       "      <td>6.383070e-01</td>\n",
       "      <td>6.516261e+00</td>\n",
       "      <td>2.302053e+00</td>\n",
       "      <td>3.694052e-01</td>\n",
       "      <td>3.671716e-01</td>\n",
       "      <td>2.715280e-01</td>\n",
       "      <td>3.732757e-01</td>\n",
       "      <td>5.838091e-02</td>\n",
       "      <td>9.214078e-02</td>\n",
       "      <td>2.943779e-01</td>\n",
       "      <td>2.427712e-01</td>\n",
       "    </tr>\n",
       "    <tr>\n",
       "      <th>min</th>\n",
       "      <td>0.000000e+00</td>\n",
       "      <td>-3.200000e-02</td>\n",
       "      <td>7.300000e-01</td>\n",
       "      <td>-3.600000e-02</td>\n",
       "      <td>-3.200000e-02</td>\n",
       "      <td>7.120000e-01</td>\n",
       "      <td>1.540000e+01</td>\n",
       "      <td>2.000000e-02</td>\n",
       "      <td>0.000000e+00</td>\n",
       "      <td>0.000000e+00</td>\n",
       "      <td>0.000000e+00</td>\n",
       "      <td>0.000000e+00</td>\n",
       "      <td>0.000000e+00</td>\n",
       "      <td>0.000000e+00</td>\n",
       "      <td>0.000000e+00</td>\n",
       "      <td>0.000000e+00</td>\n",
       "    </tr>\n",
       "    <tr>\n",
       "      <th>25%</th>\n",
       "      <td>3.792368e+06</td>\n",
       "      <td>-1.400000e-02</td>\n",
       "      <td>8.492000e+00</td>\n",
       "      <td>8.254000e+00</td>\n",
       "      <td>-2.200000e-02</td>\n",
       "      <td>8.494000e+00</td>\n",
       "      <td>5.777500e+01</td>\n",
       "      <td>4.000000e-02</td>\n",
       "      <td>1.000000e+00</td>\n",
       "      <td>0.000000e+00</td>\n",
       "      <td>1.000000e+00</td>\n",
       "      <td>1.000000e+00</td>\n",
       "      <td>0.000000e+00</td>\n",
       "      <td>1.000000e+00</td>\n",
       "      <td>1.000000e+00</td>\n",
       "      <td>1.000000e+00</td>\n",
       "    </tr>\n",
       "    <tr>\n",
       "      <th>50%</th>\n",
       "      <td>7.584735e+06</td>\n",
       "      <td>-1.200000e-02</td>\n",
       "      <td>8.960000e+00</td>\n",
       "      <td>8.784000e+00</td>\n",
       "      <td>-2.000000e-02</td>\n",
       "      <td>8.960000e+00</td>\n",
       "      <td>6.270000e+01</td>\n",
       "      <td>4.500000e-02</td>\n",
       "      <td>1.000000e+00</td>\n",
       "      <td>0.000000e+00</td>\n",
       "      <td>1.000000e+00</td>\n",
       "      <td>1.000000e+00</td>\n",
       "      <td>0.000000e+00</td>\n",
       "      <td>1.000000e+00</td>\n",
       "      <td>1.000000e+00</td>\n",
       "      <td>1.000000e+00</td>\n",
       "    </tr>\n",
       "    <tr>\n",
       "      <th>75%</th>\n",
       "      <td>1.137710e+07</td>\n",
       "      <td>-1.000000e-02</td>\n",
       "      <td>9.492000e+00</td>\n",
       "      <td>9.374000e+00</td>\n",
       "      <td>-1.800000e-02</td>\n",
       "      <td>9.492000e+00</td>\n",
       "      <td>6.725000e+01</td>\n",
       "      <td>3.807500e+00</td>\n",
       "      <td>1.000000e+00</td>\n",
       "      <td>0.000000e+00</td>\n",
       "      <td>1.000000e+00</td>\n",
       "      <td>1.000000e+00</td>\n",
       "      <td>0.000000e+00</td>\n",
       "      <td>1.000000e+00</td>\n",
       "      <td>1.000000e+00</td>\n",
       "      <td>1.000000e+00</td>\n",
       "    </tr>\n",
       "    <tr>\n",
       "      <th>max</th>\n",
       "      <td>1.516947e+07</td>\n",
       "      <td>1.067600e+01</td>\n",
       "      <td>1.030200e+01</td>\n",
       "      <td>1.028800e+01</td>\n",
       "      <td>9.844000e+00</td>\n",
       "      <td>1.030000e+01</td>\n",
       "      <td>8.905000e+01</td>\n",
       "      <td>9.295000e+00</td>\n",
       "      <td>1.000000e+00</td>\n",
       "      <td>1.000000e+00</td>\n",
       "      <td>1.000000e+00</td>\n",
       "      <td>1.000000e+00</td>\n",
       "      <td>1.000000e+00</td>\n",
       "      <td>1.000000e+00</td>\n",
       "      <td>1.000000e+00</td>\n",
       "      <td>1.000000e+00</td>\n",
       "    </tr>\n",
       "  </tbody>\n",
       "</table>\n",
       "</div>"
      ],
      "text/plain": [
       "         Unnamed: 0           TP2           TP3            H1   DV_pressure  \\\n",
       "count  1.516948e+06  1.516948e+06  1.516948e+06  1.516948e+06  1.516948e+06   \n",
       "mean   7.584735e+06  1.367826e+00  8.984611e+00  7.568155e+00  5.595619e-02   \n",
       "std    4.379053e+06  3.250930e+00  6.390951e-01  3.333200e+00  3.824015e-01   \n",
       "min    0.000000e+00 -3.200000e-02  7.300000e-01 -3.600000e-02 -3.200000e-02   \n",
       "25%    3.792368e+06 -1.400000e-02  8.492000e+00  8.254000e+00 -2.200000e-02   \n",
       "50%    7.584735e+06 -1.200000e-02  8.960000e+00  8.784000e+00 -2.000000e-02   \n",
       "75%    1.137710e+07 -1.000000e-02  9.492000e+00  9.374000e+00 -1.800000e-02   \n",
       "max    1.516947e+07  1.067600e+01  1.030200e+01  1.028800e+01  9.844000e+00   \n",
       "\n",
       "         Reservoirs  Oil_temperature  Motor_current          COMP  \\\n",
       "count  1.516948e+06     1.516948e+06   1.516948e+06  1.516948e+06   \n",
       "mean   8.985233e+00     6.264418e+01   2.050171e+00  8.369568e-01   \n",
       "std    6.383070e-01     6.516261e+00   2.302053e+00  3.694052e-01   \n",
       "min    7.120000e-01     1.540000e+01   2.000000e-02  0.000000e+00   \n",
       "25%    8.494000e+00     5.777500e+01   4.000000e-02  1.000000e+00   \n",
       "50%    8.960000e+00     6.270000e+01   4.500000e-02  1.000000e+00   \n",
       "75%    9.492000e+00     6.725000e+01   3.807500e+00  1.000000e+00   \n",
       "max    1.030000e+01     8.905000e+01   9.295000e+00  1.000000e+00   \n",
       "\n",
       "         DV_eletric        Towers           MPG           LPS  \\\n",
       "count  1.516948e+06  1.516948e+06  1.516948e+06  1.516948e+06   \n",
       "mean   1.606106e-01  9.198483e-01  8.326640e-01  3.420025e-03   \n",
       "std    3.671716e-01  2.715280e-01  3.732757e-01  5.838091e-02   \n",
       "min    0.000000e+00  0.000000e+00  0.000000e+00  0.000000e+00   \n",
       "25%    0.000000e+00  1.000000e+00  1.000000e+00  0.000000e+00   \n",
       "50%    0.000000e+00  1.000000e+00  1.000000e+00  0.000000e+00   \n",
       "75%    0.000000e+00  1.000000e+00  1.000000e+00  0.000000e+00   \n",
       "max    1.000000e+00  1.000000e+00  1.000000e+00  1.000000e+00   \n",
       "\n",
       "       Pressure_switch     Oil_level  Caudal_impulses  \n",
       "count     1.516948e+06  1.516948e+06     1.516948e+06  \n",
       "mean      9.914368e-01  9.041556e-01     9.371066e-01  \n",
       "std       9.214078e-02  2.943779e-01     2.427712e-01  \n",
       "min       0.000000e+00  0.000000e+00     0.000000e+00  \n",
       "25%       1.000000e+00  1.000000e+00     1.000000e+00  \n",
       "50%       1.000000e+00  1.000000e+00     1.000000e+00  \n",
       "75%       1.000000e+00  1.000000e+00     1.000000e+00  \n",
       "max       1.000000e+00  1.000000e+00     1.000000e+00  "
      ]
     },
     "execution_count": 6,
     "metadata": {},
     "output_type": "execute_result"
    }
   ],
   "source": [
    "dataset.describe()"
   ]
  },
  {
   "attachments": {},
   "cell_type": "markdown",
   "metadata": {},
   "source": [
    "## Preparazione Dati\n",
    "(Linee guida: Preparare i dati per l’addestramento e la validazione dei modelli di predizione: isolare la variabile “target”\n",
    "da predire e le variabili predittive, suddividere i dati in training e test set, eseguire eventuali operazioni di\n",
    "preprocessing come ad es. one-hot encoding di variabili categoriche e oversampling o undersampling in\n",
    "caso di classi sbilanciate.)"
   ]
  },
  {
   "attachments": {},
   "cell_type": "markdown",
   "metadata": {},
   "source": [
    "## Addestramento e Validazione\n",
    "(Linee guida: Addestrare e validare due o più modelli di predizione, calcolandone le misure di performance viste nel\n",
    "corso (es. MSE, errore relativo e coefficiente R² per modelli di regressione) e analizzando il modello\n",
    "addestrato (es. coefficienti in una regressione lineare o nodi dei primi livelli di un albero decisionale) per\n",
    "individuare le variabili più o meno rilevanti nella predizione.)"
   ]
  },
  {
   "attachments": {},
   "cell_type": "markdown",
   "metadata": {},
   "source": [
    "## Ricerca Iperparametri\n",
    "(Linee guida: Scegliere uno o più modelli di base (es. regressione ridge) ed eseguire una ricerca degli iperparametri\n",
    "esaustiva (grid search) o a campione (randomized search) che massimizzi le performance del modello.)"
   ]
  },
  {
   "cell_type": "markdown",
   "metadata": {},
   "source": []
  }
 ],
 "metadata": {
  "kernelspec": {
   "display_name": "base",
   "language": "python",
   "name": "python3"
  },
  "language_info": {
   "codemirror_mode": {
    "name": "ipython",
    "version": 3
   },
   "file_extension": ".py",
   "mimetype": "text/x-python",
   "name": "python",
   "nbconvert_exporter": "python",
   "pygments_lexer": "ipython3",
   "version": "3.10.9"
  },
  "orig_nbformat": 4,
  "vscode": {
   "interpreter": {
    "hash": "4ef44cada844c12efb0827e121eaffd4859fdd48fa435d196c06cb66bb3e69eb"
   }
  }
 },
 "nbformat": 4,
 "nbformat_minor": 2
}
